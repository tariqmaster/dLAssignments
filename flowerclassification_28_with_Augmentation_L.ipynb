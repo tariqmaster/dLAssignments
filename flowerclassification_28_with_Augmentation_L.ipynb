{
 "cells": [
  {
   "cell_type": "code",
   "execution_count": 1,
   "metadata": {
    "colab": {
     "base_uri": "https://localhost:8080/"
    },
    "id": "ZOma4jpKeYm6",
    "outputId": "65e13684-1338-41b8-ddac-8bd46d859ea5"
   },
   "outputs": [
    {
     "name": "stdout",
     "output_type": "stream",
     "text": [
      "Drive already mounted at /content/drive; to attempt to forcibly remount, call drive.mount(\"/content/drive\", force_remount=True).\n"
     ]
    }
   ],
   "source": [
    "from google.colab import drive\n",
    "drive.mount('/content/drive')"
   ]
  },
  {
   "cell_type": "code",
   "execution_count": 2,
   "metadata": {
    "id": "MHeMvFpkR-Oe"
   },
   "outputs": [],
   "source": [
    "import numpy as np\n",
    "import pandas as pd\n",
    "import tensorflow as tf\n",
    "from tensorflow.keras import models\n",
    "from tensorflow.keras import layers\n",
    "from tensorflow.keras.preprocessing.image import ImageDataGenerator\n",
    "from tensorflow.keras.models import Sequential\n",
    "from tensorflow.keras.layers import Dense, Flatten\n",
    "from tensorflow.keras.optimizers import RMSprop\n"
   ]
  },
  {
   "cell_type": "code",
   "execution_count": 3,
   "metadata": {
    "id": "egZwLd-iJDED"
   },
   "outputs": [],
   "source": [
    "import glob\n",
    "import cv2\n",
    "import numpy as np\n",
    "\n",
    "with tf.device('/device:GPU:0'):\n",
    "\n",
    "  IMG_DIR='/content/drive/MyDrive/PIAIC/flower-recognition/daisy'\n",
    "  IMG_DIR1='/content/drive/MyDrive/PIAIC/flower-recognition/dandelion'\n",
    "  IMG_DIR2='/content/drive/MyDrive/PIAIC/flower-recognition/rose'\n",
    "  IMG_DIR3='/content/drive/MyDrive/PIAIC/flower-recognition/sunflower'\n",
    "  IMG_DIR4='/content/drive/MyDrive/PIAIC/flower-recognition/tulip'\n",
    "\n",
    "  def read_images(directory):\n",
    "      for img in glob.glob(directory+\"/*.jpg\"):\n",
    "          image = cv2.imread(img)\n",
    "          resized_img = cv2.resize(image/255.0  , (180 ,180))\n",
    "\n",
    "          yield resized_img\n",
    "\n",
    "  resized_imgs0 =  np.array(list(read_images(IMG_DIR)))\n",
    "  resized_imgs1 =  np.array(list(read_images(IMG_DIR1)))\n",
    "  resized_imgs2 =  np.array(list(read_images(IMG_DIR2)))\n",
    "  resized_imgs3 =  np.array(list(read_images(IMG_DIR3)))\n",
    "  resized_imgs4 =  np.array(list(read_images(IMG_DIR4)))"
   ]
  },
  {
   "cell_type": "code",
   "execution_count": 4,
   "metadata": {
    "id": "coTWYSuim7aH"
   },
   "outputs": [],
   "source": [
    "label0 = np.zeros((resized_imgs0.shape[0],1))   #0\n",
    "label1 = np.ones((resized_imgs1.shape[0],1))  #1\n",
    "label2 = np.ones((resized_imgs2.shape[0],1))*2 #2\n",
    "label3 = np.ones((resized_imgs3.shape[0],1))*3 #3\n",
    "label4 = np.ones((resized_imgs4.shape[0],1))*4  #4"
   ]
  },
  {
   "cell_type": "code",
   "execution_count": 5,
   "metadata": {
    "id": "kfxqQEKJm7ho"
   },
   "outputs": [],
   "source": [
    "data = np.concatenate((resized_imgs0,resized_imgs1,resized_imgs2,resized_imgs3,resized_imgs4))"
   ]
  },
  {
   "cell_type": "code",
   "execution_count": 6,
   "metadata": {
    "id": "hyo0eb-5S3hN"
   },
   "outputs": [],
   "source": [
    "del resized_imgs0\n",
    "del resized_imgs1\n",
    "del resized_imgs2\n",
    "del resized_imgs3\n",
    "del resized_imgs4"
   ]
  },
  {
   "cell_type": "code",
   "execution_count": 7,
   "metadata": {
    "id": "v1rIpkgunCsg"
   },
   "outputs": [],
   "source": [
    "data= data.reshape(data.shape[0], data.shape[1]*data.shape[2]*data.shape[3])"
   ]
  },
  {
   "cell_type": "code",
   "execution_count": 8,
   "metadata": {
    "id": "v46rF7dJm7l0"
   },
   "outputs": [],
   "source": [
    "labels = np.concatenate((label0,label1,label2,label3,label4))"
   ]
  },
  {
   "cell_type": "code",
   "execution_count": 9,
   "metadata": {
    "id": "SBw851DUqx1d"
   },
   "outputs": [],
   "source": [
    "\n",
    "del label0\n",
    "del label1\n",
    "del label2\n",
    "del label3\n",
    "del label4"
   ]
  },
  {
   "cell_type": "code",
   "execution_count": 10,
   "metadata": {
    "id": "GdRMJtr-m7ob"
   },
   "outputs": [],
   "source": [
    "import pandas as pd\n",
    "data = pd.DataFrame(data)\n",
    "data['labels'] = labels.astype('float32')"
   ]
  },
  {
   "cell_type": "code",
   "execution_count": 11,
   "metadata": {
    "id": "YIxDtQiWnVLg"
   },
   "outputs": [],
   "source": [
    "from sklearn.model_selection import train_test_split\n",
    "train_data, test_data, train_labels, test_labels=train_test_split(data.iloc[0:,:-1], data['labels'], test_size=0.3, random_state=42, stratify = labels)"
   ]
  },
  {
   "cell_type": "code",
   "execution_count": 12,
   "metadata": {
    "id": "HNTJzW2PJppz"
   },
   "outputs": [],
   "source": [
    "del data"
   ]
  },
  {
   "cell_type": "code",
   "execution_count": 13,
   "metadata": {
    "id": "ySi80YLhm7rY"
   },
   "outputs": [],
   "source": [
    "train_data = np.array(train_data).reshape(len(train_data),180,180,3)\n",
    "# test_data.reshape(150,150,3)"
   ]
  },
  {
   "cell_type": "code",
   "execution_count": 14,
   "metadata": {
    "id": "u2Q2bSk0i8SS"
   },
   "outputs": [],
   "source": [
    "test_data = np.array(test_data).reshape(len(test_data),180,180,3)"
   ]
  },
  {
   "cell_type": "code",
   "execution_count": 15,
   "metadata": {
    "id": "RVYQi0yowy5d"
   },
   "outputs": [],
   "source": [
    "train_labels = np.array(train_labels).astype('float32')\n",
    "test_labels = np.array(test_labels).astype('float32')"
   ]
  },
  {
   "cell_type": "code",
   "execution_count": 16,
   "metadata": {
    "id": "xwFlpTZXm7tw"
   },
   "outputs": [],
   "source": [
    "# from keras.utils import to_categorical\n",
    "# train_labels = to_categorical(train_labels)\n",
    "# test_labels = to_categorical(test_labels)"
   ]
  },
  {
   "cell_type": "code",
   "execution_count": 17,
   "metadata": {
    "id": "mMFN2MN4nKEI"
   },
   "outputs": [],
   "source": [
    "data_gen = tf.keras.preprocessing.image.ImageDataGenerator(\n",
    "    # featurewise_center=True,\n",
    "    # samplewise_center=True,\n",
    "    # featurewise_std_normalization=True,\n",
    "    # samplewise_std_normalization=True,\n",
    "    # zca_whitening=False,\n",
    "    zca_epsilon=1e-06,\n",
    "    rotation_range=0,\n",
    "    width_shift_range=0.0,\n",
    "    height_shift_range=0.0,\n",
    "    brightness_range=None,\n",
    "    shear_range=0.3,\n",
    "    zoom_range=0.2,\n",
    "    channel_shift_range=0.3,\n",
    "    fill_mode=\"nearest\",\n",
    "    cval=0.0,\n",
    "    horizontal_flip=True,\n",
    "    vertical_flip=False,\n",
    "    rescale=None,\n",
    "    preprocessing_function=None,\n",
    "    data_format=None,\n",
    "    validation_split=0.0,\n",
    "    dtype=None,\n",
    ")"
   ]
  },
  {
   "cell_type": "code",
   "execution_count": 18,
   "metadata": {
    "id": "IJxEir7CoyCj"
   },
   "outputs": [],
   "source": [
    "data_gen.fit(train_data)"
   ]
  },
  {
   "cell_type": "code",
   "execution_count": 19,
   "metadata": {
    "id": "ZIn7Xpbat0aV"
   },
   "outputs": [],
   "source": [
    "data_gen.fit(test_data)"
   ]
  },
  {
   "cell_type": "code",
   "execution_count": 33,
   "metadata": {
    "id": "n0kNKV8DatIC"
   },
   "outputs": [],
   "source": [
    "#MOdels with COnv2D and Maxpooling\n",
    "model = tf.keras.models.Sequential([\n",
    "    # Note the input shape is the desired size of the image 150x150 with 3 bytes color\n",
    "    # This is the first convolution\n",
    "    tf.keras.layers.Conv2D(64, (3,3), activation='relu', input_shape=(180, 180, 3,)),\n",
    "    tf.keras.layers.MaxPooling2D(2, 2),\n",
    "    # The second convolution\n",
    "    tf.keras.layers.Conv2D(64, (3,3), activation='relu'),\n",
    "    tf.keras.layers.MaxPooling2D(2,2),\n",
    "    # The third convolution\n",
    "    tf.keras.layers.Conv2D(32, (3,3), activation='relu'),\n",
    "    tf.keras.layers.MaxPooling2D(2,2),\n",
    "    # The fourth convolution\n",
    "    tf.keras.layers.Conv2D(16, (3,3), activation='relu'),\n",
    "    tf.keras.layers.MaxPooling2D(2,2),\n",
    "    # Flatten the results to feed into a DNN\n",
    "    tf.keras.layers.Flatten(),\n",
    "    tf.keras.layers.Dropout(0.5),\n",
    "    # 512 neuron hidden layer\n",
    "    tf.keras.layers.Dense(512, activation='relu'),\n",
    "    tf.keras.layers.Dense(5, activation='softmax')\n",
    "])"
   ]
  },
  {
   "cell_type": "code",
   "execution_count": 34,
   "metadata": {
    "id": "2QFL7tA4D0Sa"
   },
   "outputs": [],
   "source": [
    "model.compile(optimizer=RMSprop(learning_rate= 0.0001),\n",
    "loss='sparse_categorical_crossentropy',\n",
    "metrics=['accuracy'])"
   ]
  },
  {
   "cell_type": "code",
   "execution_count": 35,
   "metadata": {
    "id": "kBJbtQp1fhfx"
   },
   "outputs": [],
   "source": [
    "%tensorflow_version 2.x\n",
    "import tensorflow as tf"
   ]
  },
  {
   "cell_type": "code",
   "execution_count": null,
   "metadata": {
    "colab": {
     "base_uri": "https://localhost:8080/"
    },
    "id": "mwG7_qctxUBl",
    "outputId": "1451f513-f252-4795-a94a-de6160a3bcb8"
   },
   "outputs": [
    {
     "name": "stdout",
     "output_type": "stream",
     "text": [
      "Epoch 1/500\n",
      "30/30 [==============================] - 3s 63ms/step - loss: 1.6077 - accuracy: 0.2146 - val_loss: 1.5628 - val_accuracy: 0.3700\n",
      "Epoch 2/500\n",
      "30/30 [==============================] - 1s 41ms/step - loss: 1.5735 - accuracy: 0.2852 - val_loss: 1.4714 - val_accuracy: 0.3500\n",
      "Epoch 3/500\n",
      "30/30 [==============================] - 1s 41ms/step - loss: 1.4597 - accuracy: 0.3762 - val_loss: 1.2895 - val_accuracy: 0.5100\n",
      "Epoch 4/500\n",
      "30/30 [==============================] - 1s 41ms/step - loss: 1.3403 - accuracy: 0.4272 - val_loss: 1.2207 - val_accuracy: 0.5400\n",
      "Epoch 5/500\n",
      "30/30 [==============================] - 1s 41ms/step - loss: 1.2963 - accuracy: 0.4284 - val_loss: 1.1375 - val_accuracy: 0.5500\n",
      "Epoch 6/500\n",
      "30/30 [==============================] - 1s 41ms/step - loss: 1.2903 - accuracy: 0.4349 - val_loss: 1.1244 - val_accuracy: 0.5100\n",
      "Epoch 7/500\n",
      "30/30 [==============================] - 1s 41ms/step - loss: 1.2306 - accuracy: 0.4836 - val_loss: 1.1482 - val_accuracy: 0.5300\n",
      "Epoch 8/500\n",
      "30/30 [==============================] - 1s 41ms/step - loss: 1.1981 - accuracy: 0.4577 - val_loss: 1.1007 - val_accuracy: 0.5200\n",
      "Epoch 9/500\n",
      "30/30 [==============================] - 1s 41ms/step - loss: 1.1730 - accuracy: 0.5006 - val_loss: 1.0910 - val_accuracy: 0.5300\n",
      "Epoch 10/500\n",
      "30/30 [==============================] - 1s 41ms/step - loss: 1.1554 - accuracy: 0.4982 - val_loss: 1.0302 - val_accuracy: 0.6000\n",
      "Epoch 11/500\n",
      "30/30 [==============================] - 1s 42ms/step - loss: 1.0867 - accuracy: 0.5212 - val_loss: 1.0479 - val_accuracy: 0.5500\n",
      "Epoch 12/500\n",
      "30/30 [==============================] - 1s 41ms/step - loss: 1.1395 - accuracy: 0.5241 - val_loss: 1.0581 - val_accuracy: 0.5800\n",
      "Epoch 13/500\n",
      "30/30 [==============================] - 1s 41ms/step - loss: 1.0930 - accuracy: 0.5671 - val_loss: 1.0366 - val_accuracy: 0.5700\n",
      "Epoch 14/500\n",
      "30/30 [==============================] - 1s 41ms/step - loss: 1.0919 - accuracy: 0.5844 - val_loss: 1.0443 - val_accuracy: 0.5500\n",
      "Epoch 15/500\n",
      "30/30 [==============================] - 1s 41ms/step - loss: 1.1030 - accuracy: 0.5575 - val_loss: 1.0026 - val_accuracy: 0.6200\n",
      "Epoch 16/500\n",
      "30/30 [==============================] - 1s 42ms/step - loss: 1.0841 - accuracy: 0.5552 - val_loss: 0.9838 - val_accuracy: 0.6100\n",
      "Epoch 17/500\n",
      "30/30 [==============================] - 1s 41ms/step - loss: 1.0759 - accuracy: 0.5677 - val_loss: 0.9897 - val_accuracy: 0.6000\n",
      "Epoch 18/500\n",
      "30/30 [==============================] - 1s 42ms/step - loss: 1.0933 - accuracy: 0.5829 - val_loss: 0.9875 - val_accuracy: 0.5900\n",
      "Epoch 19/500\n",
      "30/30 [==============================] - 1s 41ms/step - loss: 1.0524 - accuracy: 0.5879 - val_loss: 1.0904 - val_accuracy: 0.5500\n",
      "Epoch 20/500\n",
      "30/30 [==============================] - 1s 42ms/step - loss: 1.0630 - accuracy: 0.5636 - val_loss: 0.9567 - val_accuracy: 0.6600\n",
      "Epoch 21/500\n",
      "30/30 [==============================] - 1s 42ms/step - loss: 0.9787 - accuracy: 0.6179 - val_loss: 0.9529 - val_accuracy: 0.6300\n",
      "Epoch 22/500\n",
      "30/30 [==============================] - 1s 41ms/step - loss: 1.0459 - accuracy: 0.5912 - val_loss: 0.9635 - val_accuracy: 0.6600\n",
      "Epoch 23/500\n",
      "30/30 [==============================] - 1s 42ms/step - loss: 0.9849 - accuracy: 0.6213 - val_loss: 1.0126 - val_accuracy: 0.5700\n",
      "Epoch 24/500\n",
      "30/30 [==============================] - 1s 41ms/step - loss: 0.9454 - accuracy: 0.6221 - val_loss: 0.9632 - val_accuracy: 0.6500\n",
      "Epoch 25/500\n",
      "30/30 [==============================] - 1s 42ms/step - loss: 0.9240 - accuracy: 0.6326 - val_loss: 0.9346 - val_accuracy: 0.6300\n",
      "Epoch 26/500\n",
      "30/30 [==============================] - 1s 42ms/step - loss: 0.9652 - accuracy: 0.6300 - val_loss: 0.9179 - val_accuracy: 0.6700\n",
      "Epoch 27/500\n",
      "30/30 [==============================] - 1s 42ms/step - loss: 0.9612 - accuracy: 0.6118 - val_loss: 0.9933 - val_accuracy: 0.6000\n",
      "Epoch 28/500\n",
      "30/30 [==============================] - 1s 42ms/step - loss: 0.9610 - accuracy: 0.6476 - val_loss: 0.9187 - val_accuracy: 0.7000\n",
      "Epoch 29/500\n",
      "30/30 [==============================] - 1s 42ms/step - loss: 0.9769 - accuracy: 0.6280 - val_loss: 0.8921 - val_accuracy: 0.6900\n",
      "Epoch 30/500\n",
      "30/30 [==============================] - 1s 42ms/step - loss: 0.9429 - accuracy: 0.6240 - val_loss: 0.9479 - val_accuracy: 0.6600\n",
      "Epoch 31/500\n",
      "30/30 [==============================] - 1s 41ms/step - loss: 0.8721 - accuracy: 0.6702 - val_loss: 0.9843 - val_accuracy: 0.6700\n",
      "Epoch 32/500\n",
      "30/30 [==============================] - 1s 42ms/step - loss: 0.9618 - accuracy: 0.6113 - val_loss: 0.8913 - val_accuracy: 0.7000\n",
      "Epoch 33/500\n",
      "30/30 [==============================] - 1s 42ms/step - loss: 0.9343 - accuracy: 0.6277 - val_loss: 0.9660 - val_accuracy: 0.6600\n",
      "Epoch 34/500\n",
      "30/30 [==============================] - 1s 42ms/step - loss: 0.8756 - accuracy: 0.6628 - val_loss: 0.8848 - val_accuracy: 0.7200\n",
      "Epoch 35/500\n",
      "30/30 [==============================] - 1s 42ms/step - loss: 0.9683 - accuracy: 0.6243 - val_loss: 0.9087 - val_accuracy: 0.6900\n",
      "Epoch 36/500\n",
      "30/30 [==============================] - 1s 42ms/step - loss: 0.9688 - accuracy: 0.6281 - val_loss: 0.9573 - val_accuracy: 0.7000\n",
      "Epoch 37/500\n",
      "30/30 [==============================] - 1s 42ms/step - loss: 0.9362 - accuracy: 0.6338 - val_loss: 0.9280 - val_accuracy: 0.6500\n",
      "Epoch 38/500\n",
      "30/30 [==============================] - 1s 42ms/step - loss: 0.9446 - accuracy: 0.6383 - val_loss: 0.8732 - val_accuracy: 0.7100\n",
      "Epoch 39/500\n",
      "30/30 [==============================] - 1s 42ms/step - loss: 0.8767 - accuracy: 0.6565 - val_loss: 0.9439 - val_accuracy: 0.7100\n",
      "Epoch 40/500\n",
      "30/30 [==============================] - 1s 42ms/step - loss: 0.9282 - accuracy: 0.6497 - val_loss: 0.9161 - val_accuracy: 0.7200\n",
      "Epoch 41/500\n",
      "30/30 [==============================] - 1s 42ms/step - loss: 0.8479 - accuracy: 0.6793 - val_loss: 0.8513 - val_accuracy: 0.7100\n",
      "Epoch 42/500\n",
      "30/30 [==============================] - 1s 43ms/step - loss: 0.8718 - accuracy: 0.6886 - val_loss: 0.9182 - val_accuracy: 0.6900\n",
      "Epoch 43/500\n",
      "30/30 [==============================] - 1s 42ms/step - loss: 0.8780 - accuracy: 0.6631 - val_loss: 0.9465 - val_accuracy: 0.6900\n",
      "Epoch 44/500\n",
      "30/30 [==============================] - 1s 42ms/step - loss: 0.8293 - accuracy: 0.6839 - val_loss: 0.9580 - val_accuracy: 0.6900\n",
      "Epoch 45/500\n",
      "30/30 [==============================] - 1s 42ms/step - loss: 0.8376 - accuracy: 0.6765 - val_loss: 0.8457 - val_accuracy: 0.7100\n",
      "Epoch 46/500\n",
      "30/30 [==============================] - 1s 43ms/step - loss: 0.8370 - accuracy: 0.6896 - val_loss: 0.8801 - val_accuracy: 0.7100\n",
      "Epoch 47/500\n",
      "30/30 [==============================] - 1s 42ms/step - loss: 0.8301 - accuracy: 0.6959 - val_loss: 0.8398 - val_accuracy: 0.7100\n",
      "Epoch 48/500\n",
      "30/30 [==============================] - 1s 42ms/step - loss: 0.8990 - accuracy: 0.6639 - val_loss: 0.8777 - val_accuracy: 0.6800\n",
      "Epoch 49/500\n",
      "30/30 [==============================] - 1s 42ms/step - loss: 0.8913 - accuracy: 0.6619 - val_loss: 0.8364 - val_accuracy: 0.7300\n",
      "Epoch 50/500\n",
      "30/30 [==============================] - 1s 42ms/step - loss: 0.7940 - accuracy: 0.6873 - val_loss: 0.8280 - val_accuracy: 0.7100\n",
      "Epoch 51/500\n",
      "30/30 [==============================] - 1s 43ms/step - loss: 0.8055 - accuracy: 0.7032 - val_loss: 0.9267 - val_accuracy: 0.7100\n",
      "Epoch 52/500\n",
      "30/30 [==============================] - 1s 42ms/step - loss: 0.7985 - accuracy: 0.6906 - val_loss: 0.9233 - val_accuracy: 0.7200\n",
      "Epoch 53/500\n",
      "30/30 [==============================] - 1s 42ms/step - loss: 0.8438 - accuracy: 0.6675 - val_loss: 0.8661 - val_accuracy: 0.7500\n",
      "Epoch 54/500\n",
      "30/30 [==============================] - 1s 42ms/step - loss: 0.7662 - accuracy: 0.7284 - val_loss: 0.8369 - val_accuracy: 0.7300\n",
      "Epoch 55/500\n",
      "30/30 [==============================] - 1s 42ms/step - loss: 0.8454 - accuracy: 0.6900 - val_loss: 0.8211 - val_accuracy: 0.7300\n",
      "Epoch 56/500\n",
      "30/30 [==============================] - 1s 42ms/step - loss: 0.7836 - accuracy: 0.7017 - val_loss: 0.8354 - val_accuracy: 0.7400\n",
      "Epoch 57/500\n",
      "30/30 [==============================] - 1s 42ms/step - loss: 0.8078 - accuracy: 0.6958 - val_loss: 0.8607 - val_accuracy: 0.7300\n",
      "Epoch 58/500\n",
      "30/30 [==============================] - 1s 43ms/step - loss: 0.8076 - accuracy: 0.6897 - val_loss: 0.9079 - val_accuracy: 0.7100\n",
      "Epoch 59/500\n",
      "30/30 [==============================] - 1s 43ms/step - loss: 0.7534 - accuracy: 0.7196 - val_loss: 0.8470 - val_accuracy: 0.7000\n",
      "Epoch 60/500\n",
      "30/30 [==============================] - 1s 42ms/step - loss: 0.7571 - accuracy: 0.7148 - val_loss: 0.8978 - val_accuracy: 0.6800\n",
      "Epoch 61/500\n",
      "30/30 [==============================] - 1s 43ms/step - loss: 0.8131 - accuracy: 0.6848 - val_loss: 0.8643 - val_accuracy: 0.7400\n",
      "Epoch 62/500\n",
      "30/30 [==============================] - 1s 42ms/step - loss: 0.7441 - accuracy: 0.7288 - val_loss: 0.8266 - val_accuracy: 0.7200\n",
      "Epoch 63/500\n",
      "30/30 [==============================] - 1s 43ms/step - loss: 0.7709 - accuracy: 0.6847 - val_loss: 0.8026 - val_accuracy: 0.7400\n",
      "Epoch 64/500\n",
      "30/30 [==============================] - 1s 42ms/step - loss: 0.7845 - accuracy: 0.7024 - val_loss: 0.8120 - val_accuracy: 0.7400\n",
      "Epoch 65/500\n",
      "30/30 [==============================] - 1s 43ms/step - loss: 0.7374 - accuracy: 0.7239 - val_loss: 0.7990 - val_accuracy: 0.7400\n",
      "Epoch 66/500\n",
      "30/30 [==============================] - 1s 42ms/step - loss: 0.7558 - accuracy: 0.7260 - val_loss: 0.8089 - val_accuracy: 0.7400\n",
      "Epoch 67/500\n",
      "30/30 [==============================] - 1s 43ms/step - loss: 0.8029 - accuracy: 0.6893 - val_loss: 0.8109 - val_accuracy: 0.7400\n",
      "Epoch 68/500\n",
      "30/30 [==============================] - 1s 43ms/step - loss: 0.7798 - accuracy: 0.7113 - val_loss: 0.8271 - val_accuracy: 0.7300\n",
      "Epoch 69/500\n",
      "30/30 [==============================] - 1s 42ms/step - loss: 0.7677 - accuracy: 0.6907 - val_loss: 0.8646 - val_accuracy: 0.7300\n",
      "Epoch 70/500\n",
      "30/30 [==============================] - 1s 43ms/step - loss: 0.7529 - accuracy: 0.7139 - val_loss: 0.7890 - val_accuracy: 0.7600\n",
      "Epoch 71/500\n",
      "30/30 [==============================] - 1s 42ms/step - loss: 0.7543 - accuracy: 0.7169 - val_loss: 0.8891 - val_accuracy: 0.7100\n",
      "Epoch 72/500\n",
      "30/30 [==============================] - 1s 42ms/step - loss: 0.7307 - accuracy: 0.7291 - val_loss: 0.8320 - val_accuracy: 0.7300\n",
      "Epoch 73/500\n",
      "30/30 [==============================] - 1s 43ms/step - loss: 0.7527 - accuracy: 0.7035 - val_loss: 0.8042 - val_accuracy: 0.7600\n",
      "Epoch 74/500\n",
      "30/30 [==============================] - 1s 42ms/step - loss: 0.6909 - accuracy: 0.7458 - val_loss: 0.8205 - val_accuracy: 0.7100\n",
      "Epoch 75/500\n",
      "30/30 [==============================] - 1s 42ms/step - loss: 0.7132 - accuracy: 0.7177 - val_loss: 0.8960 - val_accuracy: 0.7000\n",
      "Epoch 76/500\n",
      "30/30 [==============================] - 1s 42ms/step - loss: 0.7959 - accuracy: 0.6870 - val_loss: 0.8896 - val_accuracy: 0.7000\n",
      "Epoch 77/500\n",
      "30/30 [==============================] - 1s 42ms/step - loss: 0.7599 - accuracy: 0.7198 - val_loss: 0.7931 - val_accuracy: 0.7500\n",
      "Epoch 78/500\n",
      "30/30 [==============================] - 1s 43ms/step - loss: 0.6805 - accuracy: 0.7338 - val_loss: 0.8429 - val_accuracy: 0.7300\n",
      "Epoch 79/500\n",
      "30/30 [==============================] - 1s 42ms/step - loss: 0.7078 - accuracy: 0.7242 - val_loss: 0.8120 - val_accuracy: 0.7600\n",
      "Epoch 80/500\n",
      "30/30 [==============================] - 1s 42ms/step - loss: 0.7161 - accuracy: 0.7380 - val_loss: 0.7806 - val_accuracy: 0.7400\n",
      "Epoch 81/500\n",
      "30/30 [==============================] - 1s 42ms/step - loss: 0.6728 - accuracy: 0.7414 - val_loss: 0.7895 - val_accuracy: 0.7600\n",
      "Epoch 82/500\n",
      "30/30 [==============================] - 1s 42ms/step - loss: 0.6972 - accuracy: 0.7300 - val_loss: 0.7758 - val_accuracy: 0.7600\n",
      "Epoch 83/500\n",
      "30/30 [==============================] - 1s 42ms/step - loss: 0.6805 - accuracy: 0.7407 - val_loss: 0.8124 - val_accuracy: 0.7300\n",
      "Epoch 84/500\n",
      "30/30 [==============================] - 1s 42ms/step - loss: 0.7463 - accuracy: 0.7159 - val_loss: 0.8862 - val_accuracy: 0.7300\n",
      "Epoch 85/500\n",
      "30/30 [==============================] - 1s 42ms/step - loss: 0.7113 - accuracy: 0.7276 - val_loss: 0.7912 - val_accuracy: 0.7400\n",
      "Epoch 86/500\n",
      "30/30 [==============================] - 1s 42ms/step - loss: 0.6805 - accuracy: 0.7580 - val_loss: 0.8103 - val_accuracy: 0.7500\n",
      "Epoch 87/500\n",
      "30/30 [==============================] - 1s 43ms/step - loss: 0.6918 - accuracy: 0.7438 - val_loss: 0.7870 - val_accuracy: 0.7900\n",
      "Epoch 88/500\n",
      "30/30 [==============================] - 1s 42ms/step - loss: 0.6916 - accuracy: 0.7549 - val_loss: 0.7607 - val_accuracy: 0.7700\n",
      "Epoch 89/500\n",
      "30/30 [==============================] - 1s 43ms/step - loss: 0.6494 - accuracy: 0.7687 - val_loss: 0.8531 - val_accuracy: 0.7300\n",
      "Epoch 90/500\n",
      "30/30 [==============================] - 1s 42ms/step - loss: 0.6470 - accuracy: 0.7428 - val_loss: 0.9181 - val_accuracy: 0.6800\n",
      "Epoch 91/500\n",
      "30/30 [==============================] - 1s 43ms/step - loss: 0.6892 - accuracy: 0.7252 - val_loss: 0.8346 - val_accuracy: 0.7200\n",
      "Epoch 92/500\n",
      "30/30 [==============================] - 1s 43ms/step - loss: 0.6355 - accuracy: 0.7560 - val_loss: 0.8562 - val_accuracy: 0.7000\n",
      "Epoch 93/500\n",
      "30/30 [==============================] - 1s 42ms/step - loss: 0.6076 - accuracy: 0.7686 - val_loss: 0.8343 - val_accuracy: 0.7200\n",
      "Epoch 94/500\n",
      "30/30 [==============================] - 1s 43ms/step - loss: 0.6461 - accuracy: 0.7597 - val_loss: 0.7804 - val_accuracy: 0.7500\n",
      "Epoch 95/500\n",
      "30/30 [==============================] - 1s 42ms/step - loss: 0.6486 - accuracy: 0.7436 - val_loss: 0.8607 - val_accuracy: 0.7300\n",
      "Epoch 96/500\n",
      "30/30 [==============================] - 1s 43ms/step - loss: 0.6886 - accuracy: 0.7402 - val_loss: 0.9038 - val_accuracy: 0.7100\n",
      "Epoch 97/500\n",
      "30/30 [==============================] - 1s 42ms/step - loss: 0.7149 - accuracy: 0.7381 - val_loss: 0.8017 - val_accuracy: 0.7200\n",
      "Epoch 98/500\n",
      "30/30 [==============================] - 1s 42ms/step - loss: 0.6525 - accuracy: 0.7526 - val_loss: 0.9747 - val_accuracy: 0.7300\n",
      "Epoch 99/500\n",
      "30/30 [==============================] - 1s 42ms/step - loss: 0.7046 - accuracy: 0.7370 - val_loss: 0.8141 - val_accuracy: 0.7200\n",
      "Epoch 100/500\n",
      "30/30 [==============================] - 1s 42ms/step - loss: 0.6684 - accuracy: 0.7476 - val_loss: 0.7879 - val_accuracy: 0.7300\n",
      "Epoch 101/500\n",
      "30/30 [==============================] - 1s 43ms/step - loss: 0.5617 - accuracy: 0.7973 - val_loss: 0.8115 - val_accuracy: 0.7200\n",
      "Epoch 102/500\n",
      "30/30 [==============================] - 1s 42ms/step - loss: 0.6776 - accuracy: 0.7223 - val_loss: 0.8412 - val_accuracy: 0.7500\n",
      "Epoch 103/500\n",
      "30/30 [==============================] - 1s 42ms/step - loss: 0.6300 - accuracy: 0.7486 - val_loss: 0.7885 - val_accuracy: 0.7500\n",
      "Epoch 104/500\n",
      "30/30 [==============================] - 1s 42ms/step - loss: 0.7164 - accuracy: 0.7186 - val_loss: 0.7816 - val_accuracy: 0.7800\n",
      "Epoch 105/500\n",
      "30/30 [==============================] - 1s 42ms/step - loss: 0.5987 - accuracy: 0.7705 - val_loss: 0.8279 - val_accuracy: 0.7500\n",
      "Epoch 106/500\n",
      "30/30 [==============================] - 1s 42ms/step - loss: 0.7189 - accuracy: 0.7230 - val_loss: 0.8020 - val_accuracy: 0.7400\n",
      "Epoch 107/500\n",
      "30/30 [==============================] - 1s 42ms/step - loss: 0.6443 - accuracy: 0.7626 - val_loss: 0.8150 - val_accuracy: 0.7300\n",
      "Epoch 108/500\n",
      "30/30 [==============================] - 1s 42ms/step - loss: 0.6451 - accuracy: 0.7608 - val_loss: 0.9160 - val_accuracy: 0.7200\n",
      "Epoch 109/500\n",
      "30/30 [==============================] - 1s 42ms/step - loss: 0.6558 - accuracy: 0.7700 - val_loss: 0.7840 - val_accuracy: 0.7300\n",
      "Epoch 110/500\n",
      "30/30 [==============================] - 1s 42ms/step - loss: 0.6301 - accuracy: 0.7832 - val_loss: 0.8480 - val_accuracy: 0.7300\n",
      "Epoch 111/500\n",
      "30/30 [==============================] - 1s 42ms/step - loss: 0.5819 - accuracy: 0.7722 - val_loss: 0.8640 - val_accuracy: 0.7400\n",
      "Epoch 112/500\n",
      "30/30 [==============================] - 1s 42ms/step - loss: 0.6185 - accuracy: 0.7506 - val_loss: 0.7864 - val_accuracy: 0.7400\n",
      "Epoch 113/500\n",
      "30/30 [==============================] - 1s 43ms/step - loss: 0.5997 - accuracy: 0.7746 - val_loss: 0.8342 - val_accuracy: 0.7200\n",
      "Epoch 114/500\n",
      "30/30 [==============================] - 1s 42ms/step - loss: 0.6261 - accuracy: 0.7691 - val_loss: 0.7671 - val_accuracy: 0.7500\n",
      "Epoch 115/500\n",
      "30/30 [==============================] - 1s 42ms/step - loss: 0.6061 - accuracy: 0.7621 - val_loss: 0.7948 - val_accuracy: 0.7300\n",
      "Epoch 116/500\n",
      "30/30 [==============================] - 1s 42ms/step - loss: 0.5906 - accuracy: 0.7813 - val_loss: 0.8148 - val_accuracy: 0.7400\n",
      "Epoch 117/500\n",
      "30/30 [==============================] - 1s 43ms/step - loss: 0.6289 - accuracy: 0.7580 - val_loss: 0.7771 - val_accuracy: 0.7600\n",
      "Epoch 118/500\n",
      "30/30 [==============================] - 1s 43ms/step - loss: 0.6319 - accuracy: 0.7463 - val_loss: 0.8689 - val_accuracy: 0.7200\n",
      "Epoch 119/500\n",
      "30/30 [==============================] - 1s 42ms/step - loss: 0.6200 - accuracy: 0.7752 - val_loss: 0.8755 - val_accuracy: 0.7200\n",
      "Epoch 120/500\n",
      "30/30 [==============================] - 1s 43ms/step - loss: 0.5091 - accuracy: 0.8148 - val_loss: 0.8173 - val_accuracy: 0.7200\n",
      "Epoch 121/500\n",
      "30/30 [==============================] - 1s 42ms/step - loss: 0.6030 - accuracy: 0.7556 - val_loss: 0.8356 - val_accuracy: 0.7500\n",
      "Epoch 122/500\n",
      "30/30 [==============================] - 1s 43ms/step - loss: 0.5693 - accuracy: 0.7732 - val_loss: 0.8401 - val_accuracy: 0.7400\n",
      "Epoch 123/500\n",
      "30/30 [==============================] - 1s 43ms/step - loss: 0.5620 - accuracy: 0.7830 - val_loss: 0.8324 - val_accuracy: 0.7200\n",
      "Epoch 124/500\n",
      "30/30 [==============================] - 1s 42ms/step - loss: 0.5339 - accuracy: 0.8151 - val_loss: 0.8141 - val_accuracy: 0.7500\n",
      "Epoch 125/500\n",
      "30/30 [==============================] - 1s 42ms/step - loss: 0.5606 - accuracy: 0.7794 - val_loss: 0.7932 - val_accuracy: 0.7500\n",
      "Epoch 126/500\n",
      "30/30 [==============================] - 1s 42ms/step - loss: 0.5829 - accuracy: 0.7847 - val_loss: 0.7973 - val_accuracy: 0.7800\n",
      "Epoch 127/500\n",
      "30/30 [==============================] - 1s 42ms/step - loss: 0.5346 - accuracy: 0.7861 - val_loss: 0.7885 - val_accuracy: 0.7600\n",
      "Epoch 128/500\n",
      "30/30 [==============================] - 1s 42ms/step - loss: 0.5439 - accuracy: 0.7842 - val_loss: 0.8923 - val_accuracy: 0.7200\n",
      "Epoch 129/500\n",
      "30/30 [==============================] - 1s 42ms/step - loss: 0.5437 - accuracy: 0.7830 - val_loss: 0.8493 - val_accuracy: 0.7600\n",
      "Epoch 130/500\n",
      "30/30 [==============================] - 1s 43ms/step - loss: 0.5251 - accuracy: 0.8115 - val_loss: 0.8058 - val_accuracy: 0.7500\n",
      "Epoch 131/500\n",
      "30/30 [==============================] - 1s 42ms/step - loss: 0.5193 - accuracy: 0.8094 - val_loss: 0.9481 - val_accuracy: 0.7100\n",
      "Epoch 132/500\n",
      "30/30 [==============================] - 1s 42ms/step - loss: 0.5221 - accuracy: 0.8030 - val_loss: 0.8580 - val_accuracy: 0.7700\n",
      "Epoch 133/500\n",
      "30/30 [==============================] - 1s 42ms/step - loss: 0.5952 - accuracy: 0.7729 - val_loss: 0.7989 - val_accuracy: 0.7700\n",
      "Epoch 134/500\n",
      "30/30 [==============================] - 1s 43ms/step - loss: 0.5270 - accuracy: 0.8075 - val_loss: 0.7978 - val_accuracy: 0.7500\n",
      "Epoch 135/500\n",
      "30/30 [==============================] - 1s 42ms/step - loss: 0.6170 - accuracy: 0.7671 - val_loss: 0.8527 - val_accuracy: 0.7400\n",
      "Epoch 136/500\n",
      "30/30 [==============================] - 1s 42ms/step - loss: 0.5661 - accuracy: 0.7967 - val_loss: 0.9292 - val_accuracy: 0.7500\n",
      "Epoch 137/500\n",
      "30/30 [==============================] - 1s 43ms/step - loss: 0.5653 - accuracy: 0.7879 - val_loss: 0.7793 - val_accuracy: 0.7600\n",
      "Epoch 138/500\n",
      "30/30 [==============================] - 1s 42ms/step - loss: 0.6603 - accuracy: 0.7488 - val_loss: 0.9085 - val_accuracy: 0.7600\n",
      "Epoch 139/500\n",
      "30/30 [==============================] - 1s 43ms/step - loss: 0.5364 - accuracy: 0.8135 - val_loss: 0.8305 - val_accuracy: 0.7500\n",
      "Epoch 140/500\n",
      "30/30 [==============================] - 1s 42ms/step - loss: 0.5630 - accuracy: 0.7746 - val_loss: 0.8534 - val_accuracy: 0.7400\n",
      "Epoch 141/500\n",
      "30/30 [==============================] - 1s 42ms/step - loss: 0.5121 - accuracy: 0.8186 - val_loss: 0.9301 - val_accuracy: 0.7200\n",
      "Epoch 142/500\n",
      "30/30 [==============================] - 1s 42ms/step - loss: 0.5427 - accuracy: 0.8040 - val_loss: 1.0318 - val_accuracy: 0.7000\n",
      "Epoch 143/500\n",
      "30/30 [==============================] - 1s 42ms/step - loss: 0.4795 - accuracy: 0.8064 - val_loss: 0.7997 - val_accuracy: 0.7900\n",
      "Epoch 144/500\n",
      "30/30 [==============================] - 1s 42ms/step - loss: 0.5741 - accuracy: 0.7879 - val_loss: 0.9299 - val_accuracy: 0.7300\n",
      "Epoch 145/500\n",
      "30/30 [==============================] - 1s 42ms/step - loss: 0.5066 - accuracy: 0.8112 - val_loss: 0.8784 - val_accuracy: 0.7000\n",
      "Epoch 146/500\n",
      "30/30 [==============================] - 1s 42ms/step - loss: 0.5099 - accuracy: 0.7918 - val_loss: 0.9671 - val_accuracy: 0.7200\n",
      "Epoch 147/500\n",
      "30/30 [==============================] - 1s 42ms/step - loss: 0.5846 - accuracy: 0.7898 - val_loss: 0.8219 - val_accuracy: 0.7700\n",
      "Epoch 148/500\n",
      "30/30 [==============================] - 1s 42ms/step - loss: 0.5022 - accuracy: 0.8113 - val_loss: 0.8297 - val_accuracy: 0.7200\n",
      "Epoch 149/500\n",
      "30/30 [==============================] - 1s 42ms/step - loss: 0.4945 - accuracy: 0.8114 - val_loss: 0.8279 - val_accuracy: 0.7300\n",
      "Epoch 150/500\n",
      "30/30 [==============================] - 1s 42ms/step - loss: 0.4693 - accuracy: 0.8292 - val_loss: 0.8420 - val_accuracy: 0.7400\n",
      "Epoch 151/500\n",
      "30/30 [==============================] - 1s 42ms/step - loss: 0.5471 - accuracy: 0.7938 - val_loss: 0.8155 - val_accuracy: 0.7600\n",
      "Epoch 152/500\n",
      "30/30 [==============================] - 1s 42ms/step - loss: 0.4669 - accuracy: 0.8229 - val_loss: 0.9372 - val_accuracy: 0.7500\n",
      "Epoch 153/500\n",
      "30/30 [==============================] - 1s 43ms/step - loss: 0.5142 - accuracy: 0.7978 - val_loss: 0.8646 - val_accuracy: 0.7400\n",
      "Epoch 154/500\n",
      "30/30 [==============================] - 1s 42ms/step - loss: 0.4605 - accuracy: 0.8371 - val_loss: 0.8721 - val_accuracy: 0.7200\n",
      "Epoch 155/500\n",
      "30/30 [==============================] - 1s 43ms/step - loss: 0.4714 - accuracy: 0.8352 - val_loss: 0.8875 - val_accuracy: 0.7400\n",
      "Epoch 156/500\n",
      "30/30 [==============================] - 1s 44ms/step - loss: 0.4500 - accuracy: 0.8374 - val_loss: 0.8760 - val_accuracy: 0.7900\n",
      "Epoch 157/500\n",
      "30/30 [==============================] - 1s 44ms/step - loss: 0.5180 - accuracy: 0.7896 - val_loss: 0.8965 - val_accuracy: 0.7600\n",
      "Epoch 158/500\n",
      "30/30 [==============================] - 1s 44ms/step - loss: 0.4739 - accuracy: 0.8136 - val_loss: 0.9248 - val_accuracy: 0.7600\n",
      "Epoch 159/500\n",
      "30/30 [==============================] - 1s 43ms/step - loss: 0.4441 - accuracy: 0.8599 - val_loss: 0.8465 - val_accuracy: 0.7400\n",
      "Epoch 160/500\n",
      "30/30 [==============================] - 1s 44ms/step - loss: 0.4952 - accuracy: 0.8112 - val_loss: 0.9556 - val_accuracy: 0.7400\n",
      "Epoch 161/500\n",
      "30/30 [==============================] - 1s 43ms/step - loss: 0.4583 - accuracy: 0.8211 - val_loss: 0.8422 - val_accuracy: 0.7600\n",
      "Epoch 162/500\n",
      "30/30 [==============================] - 1s 44ms/step - loss: 0.4751 - accuracy: 0.8187 - val_loss: 0.8852 - val_accuracy: 0.7600\n",
      "Epoch 163/500\n",
      "30/30 [==============================] - 1s 43ms/step - loss: 0.4659 - accuracy: 0.8238 - val_loss: 0.8961 - val_accuracy: 0.7500\n",
      "Epoch 164/500\n",
      "30/30 [==============================] - 1s 45ms/step - loss: 0.4685 - accuracy: 0.8298 - val_loss: 0.8853 - val_accuracy: 0.7600\n",
      "Epoch 165/500\n",
      "30/30 [==============================] - 1s 45ms/step - loss: 0.5447 - accuracy: 0.7913 - val_loss: 0.8565 - val_accuracy: 0.7600\n",
      "Epoch 166/500\n",
      "30/30 [==============================] - 1s 43ms/step - loss: 0.4706 - accuracy: 0.8123 - val_loss: 0.9153 - val_accuracy: 0.7400\n",
      "Epoch 167/500\n",
      "30/30 [==============================] - 1s 44ms/step - loss: 0.4712 - accuracy: 0.8061 - val_loss: 0.8847 - val_accuracy: 0.7500\n",
      "Epoch 168/500\n",
      "30/30 [==============================] - 1s 43ms/step - loss: 0.4907 - accuracy: 0.8238 - val_loss: 0.8951 - val_accuracy: 0.7400\n",
      "Epoch 169/500\n",
      "30/30 [==============================] - 1s 44ms/step - loss: 0.4510 - accuracy: 0.8405 - val_loss: 0.9581 - val_accuracy: 0.7200\n",
      "Epoch 170/500\n",
      "30/30 [==============================] - 1s 44ms/step - loss: 0.4115 - accuracy: 0.8322 - val_loss: 0.8979 - val_accuracy: 0.7700\n",
      "Epoch 171/500\n",
      "30/30 [==============================] - 1s 44ms/step - loss: 0.4428 - accuracy: 0.8313 - val_loss: 0.9791 - val_accuracy: 0.7300\n",
      "Epoch 172/500\n",
      "30/30 [==============================] - 1s 44ms/step - loss: 0.4258 - accuracy: 0.8417 - val_loss: 0.8837 - val_accuracy: 0.7400\n",
      "Epoch 173/500\n",
      "30/30 [==============================] - 1s 43ms/step - loss: 0.4982 - accuracy: 0.8019 - val_loss: 0.8442 - val_accuracy: 0.7500\n",
      "Epoch 174/500\n",
      "30/30 [==============================] - 1s 43ms/step - loss: 0.4349 - accuracy: 0.8385 - val_loss: 0.9325 - val_accuracy: 0.7400\n",
      "Epoch 175/500\n",
      "30/30 [==============================] - 1s 43ms/step - loss: 0.4632 - accuracy: 0.8310 - val_loss: 0.9410 - val_accuracy: 0.7400\n",
      "Epoch 176/500\n",
      "30/30 [==============================] - 1s 43ms/step - loss: 0.4736 - accuracy: 0.8111 - val_loss: 0.9889 - val_accuracy: 0.7400\n",
      "Epoch 177/500\n",
      "30/30 [==============================] - 1s 45ms/step - loss: 0.4263 - accuracy: 0.8360 - val_loss: 0.9684 - val_accuracy: 0.7400\n",
      "Epoch 178/500\n",
      "30/30 [==============================] - 1s 43ms/step - loss: 0.4225 - accuracy: 0.8417 - val_loss: 0.8923 - val_accuracy: 0.7400\n",
      "Epoch 179/500\n",
      "30/30 [==============================] - 1s 44ms/step - loss: 0.4295 - accuracy: 0.8337 - val_loss: 1.0649 - val_accuracy: 0.6900\n",
      "Epoch 180/500\n",
      "30/30 [==============================] - 1s 44ms/step - loss: 0.4041 - accuracy: 0.8407 - val_loss: 0.9692 - val_accuracy: 0.7300\n",
      "Epoch 181/500\n",
      "30/30 [==============================] - 1s 44ms/step - loss: 0.4555 - accuracy: 0.8385 - val_loss: 0.9465 - val_accuracy: 0.7400\n",
      "Epoch 182/500\n",
      "30/30 [==============================] - 1s 44ms/step - loss: 0.3986 - accuracy: 0.8482 - val_loss: 0.9087 - val_accuracy: 0.7400\n",
      "Epoch 183/500\n",
      "30/30 [==============================] - 1s 43ms/step - loss: 0.3947 - accuracy: 0.8643 - val_loss: 0.9136 - val_accuracy: 0.7500\n",
      "Epoch 184/500\n",
      "30/30 [==============================] - 1s 43ms/step - loss: 0.4046 - accuracy: 0.8589 - val_loss: 1.0416 - val_accuracy: 0.7100\n",
      "Epoch 185/500\n",
      "30/30 [==============================] - 1s 43ms/step - loss: 0.4377 - accuracy: 0.8385 - val_loss: 0.9808 - val_accuracy: 0.7100\n",
      "Epoch 186/500\n",
      "30/30 [==============================] - 1s 44ms/step - loss: 0.4099 - accuracy: 0.8560 - val_loss: 0.9173 - val_accuracy: 0.7400\n",
      "Epoch 187/500\n",
      "30/30 [==============================] - 1s 43ms/step - loss: 0.4293 - accuracy: 0.8492 - val_loss: 0.9364 - val_accuracy: 0.7500\n",
      "Epoch 188/500\n",
      "30/30 [==============================] - 1s 45ms/step - loss: 0.3875 - accuracy: 0.8650 - val_loss: 0.9250 - val_accuracy: 0.7500\n",
      "Epoch 189/500\n",
      "30/30 [==============================] - 1s 44ms/step - loss: 0.4389 - accuracy: 0.8311 - val_loss: 1.0119 - val_accuracy: 0.7300\n",
      "Epoch 190/500\n",
      "30/30 [==============================] - 1s 43ms/step - loss: 0.4408 - accuracy: 0.8249 - val_loss: 0.8945 - val_accuracy: 0.7500\n",
      "Epoch 191/500\n",
      "30/30 [==============================] - 1s 44ms/step - loss: 0.3898 - accuracy: 0.8578 - val_loss: 0.9338 - val_accuracy: 0.7300\n",
      "Epoch 192/500\n",
      "30/30 [==============================] - 1s 44ms/step - loss: 0.4578 - accuracy: 0.8264 - val_loss: 1.0545 - val_accuracy: 0.7200\n",
      "Epoch 193/500\n",
      "30/30 [==============================] - 1s 44ms/step - loss: 0.4011 - accuracy: 0.8454 - val_loss: 0.9804 - val_accuracy: 0.7600\n",
      "Epoch 194/500\n",
      "30/30 [==============================] - 1s 44ms/step - loss: 0.3820 - accuracy: 0.8682 - val_loss: 0.9818 - val_accuracy: 0.7500\n",
      "Epoch 195/500\n",
      "30/30 [==============================] - 1s 44ms/step - loss: 0.4301 - accuracy: 0.8209 - val_loss: 0.9878 - val_accuracy: 0.7000\n",
      "Epoch 196/500\n",
      "30/30 [==============================] - 1s 44ms/step - loss: 0.3860 - accuracy: 0.8436 - val_loss: 1.0114 - val_accuracy: 0.7200\n",
      "Epoch 197/500\n",
      "30/30 [==============================] - 1s 44ms/step - loss: 0.4285 - accuracy: 0.8389 - val_loss: 0.9667 - val_accuracy: 0.7600\n",
      "Epoch 198/500\n",
      "30/30 [==============================] - 1s 44ms/step - loss: 0.4508 - accuracy: 0.8260 - val_loss: 1.1134 - val_accuracy: 0.6900\n",
      "Epoch 199/500\n",
      "30/30 [==============================] - 1s 44ms/step - loss: 0.4023 - accuracy: 0.8606 - val_loss: 0.9698 - val_accuracy: 0.7500\n",
      "Epoch 200/500\n",
      "30/30 [==============================] - 1s 45ms/step - loss: 0.3835 - accuracy: 0.8451 - val_loss: 1.1100 - val_accuracy: 0.6600\n",
      "Epoch 201/500\n",
      "30/30 [==============================] - 1s 43ms/step - loss: 0.3918 - accuracy: 0.8511 - val_loss: 0.9456 - val_accuracy: 0.7400\n",
      "Epoch 202/500\n",
      "30/30 [==============================] - 1s 43ms/step - loss: 0.4236 - accuracy: 0.8457 - val_loss: 0.9741 - val_accuracy: 0.7300\n",
      "Epoch 203/500\n",
      "30/30 [==============================] - 1s 43ms/step - loss: 0.3516 - accuracy: 0.8692 - val_loss: 1.0900 - val_accuracy: 0.7100\n",
      "Epoch 204/500\n",
      "30/30 [==============================] - 1s 44ms/step - loss: 0.3813 - accuracy: 0.8600 - val_loss: 1.1118 - val_accuracy: 0.7000\n",
      "Epoch 205/500\n",
      "30/30 [==============================] - 1s 44ms/step - loss: 0.3975 - accuracy: 0.8548 - val_loss: 0.9041 - val_accuracy: 0.7600\n",
      "Epoch 206/500\n",
      "30/30 [==============================] - 1s 44ms/step - loss: 0.4290 - accuracy: 0.8263 - val_loss: 1.0479 - val_accuracy: 0.7400\n",
      "Epoch 207/500\n",
      "30/30 [==============================] - 1s 44ms/step - loss: 0.3664 - accuracy: 0.8642 - val_loss: 0.9925 - val_accuracy: 0.7000\n",
      "Epoch 208/500\n",
      "30/30 [==============================] - 1s 44ms/step - loss: 0.3875 - accuracy: 0.8545 - val_loss: 0.9688 - val_accuracy: 0.7700\n",
      "Epoch 209/500\n",
      "30/30 [==============================] - 1s 44ms/step - loss: 0.3809 - accuracy: 0.8720 - val_loss: 1.0414 - val_accuracy: 0.7400\n",
      "Epoch 210/500\n",
      "30/30 [==============================] - 1s 44ms/step - loss: 0.4072 - accuracy: 0.8465 - val_loss: 0.9088 - val_accuracy: 0.7600\n",
      "Epoch 211/500\n",
      "30/30 [==============================] - 1s 44ms/step - loss: 0.3601 - accuracy: 0.8855 - val_loss: 0.9195 - val_accuracy: 0.7700\n",
      "Epoch 212/500\n",
      "30/30 [==============================] - 1s 44ms/step - loss: 0.3707 - accuracy: 0.8449 - val_loss: 1.0300 - val_accuracy: 0.7500\n",
      "Epoch 213/500\n",
      "30/30 [==============================] - 1s 44ms/step - loss: 0.3708 - accuracy: 0.8847 - val_loss: 1.0282 - val_accuracy: 0.7400\n",
      "Epoch 214/500\n",
      "30/30 [==============================] - 1s 44ms/step - loss: 0.3118 - accuracy: 0.8776 - val_loss: 0.9564 - val_accuracy: 0.7600\n",
      "Epoch 215/500\n",
      "30/30 [==============================] - 1s 44ms/step - loss: 0.3774 - accuracy: 0.8499 - val_loss: 1.2028 - val_accuracy: 0.6900\n",
      "Epoch 216/500\n",
      "30/30 [==============================] - 1s 44ms/step - loss: 0.3710 - accuracy: 0.8531 - val_loss: 0.9393 - val_accuracy: 0.7300\n",
      "Epoch 217/500\n",
      "30/30 [==============================] - 1s 45ms/step - loss: 0.3399 - accuracy: 0.8622 - val_loss: 1.0051 - val_accuracy: 0.7100\n",
      "Epoch 218/500\n",
      "30/30 [==============================] - 1s 43ms/step - loss: 0.3743 - accuracy: 0.8499 - val_loss: 0.9817 - val_accuracy: 0.7300\n",
      "Epoch 219/500\n",
      "30/30 [==============================] - 1s 44ms/step - loss: 0.3338 - accuracy: 0.8650 - val_loss: 1.0841 - val_accuracy: 0.7200\n",
      "Epoch 220/500\n",
      "30/30 [==============================] - 1s 44ms/step - loss: 0.3334 - accuracy: 0.8598 - val_loss: 1.0049 - val_accuracy: 0.7500\n",
      "Epoch 221/500\n",
      "30/30 [==============================] - 1s 44ms/step - loss: 0.3510 - accuracy: 0.8579 - val_loss: 1.0315 - val_accuracy: 0.7600\n",
      "Epoch 222/500\n",
      "30/30 [==============================] - 1s 44ms/step - loss: 0.3248 - accuracy: 0.8880 - val_loss: 0.9901 - val_accuracy: 0.7500\n",
      "Epoch 223/500\n",
      "30/30 [==============================] - 1s 43ms/step - loss: 0.3719 - accuracy: 0.8521 - val_loss: 1.0522 - val_accuracy: 0.7500\n",
      "Epoch 224/500\n",
      "30/30 [==============================] - 1s 44ms/step - loss: 0.3498 - accuracy: 0.8657 - val_loss: 1.0158 - val_accuracy: 0.7600\n",
      "Epoch 225/500\n",
      "30/30 [==============================] - 1s 43ms/step - loss: 0.3107 - accuracy: 0.8916 - val_loss: 1.1354 - val_accuracy: 0.7300\n",
      "Epoch 226/500\n",
      "30/30 [==============================] - 1s 44ms/step - loss: 0.3403 - accuracy: 0.8724 - val_loss: 0.9941 - val_accuracy: 0.7800\n",
      "Epoch 227/500\n",
      "30/30 [==============================] - 1s 45ms/step - loss: 0.3384 - accuracy: 0.8779 - val_loss: 1.0137 - val_accuracy: 0.7400\n",
      "Epoch 228/500\n",
      "30/30 [==============================] - 1s 44ms/step - loss: 0.3105 - accuracy: 0.8875 - val_loss: 0.9939 - val_accuracy: 0.7500\n",
      "Epoch 229/500\n",
      "30/30 [==============================] - 1s 45ms/step - loss: 0.3003 - accuracy: 0.8911 - val_loss: 1.0532 - val_accuracy: 0.7300\n",
      "Epoch 230/500\n",
      "30/30 [==============================] - 1s 43ms/step - loss: 0.3218 - accuracy: 0.8914 - val_loss: 1.1261 - val_accuracy: 0.7300\n",
      "Epoch 231/500\n",
      "30/30 [==============================] - 1s 45ms/step - loss: 0.3090 - accuracy: 0.8927 - val_loss: 1.1227 - val_accuracy: 0.7200\n",
      "Epoch 232/500\n",
      "30/30 [==============================] - 1s 44ms/step - loss: 0.2956 - accuracy: 0.8776 - val_loss: 1.1486 - val_accuracy: 0.7100\n",
      "Epoch 233/500\n",
      "30/30 [==============================] - 1s 44ms/step - loss: 0.3249 - accuracy: 0.8600 - val_loss: 1.2155 - val_accuracy: 0.6700\n",
      "Epoch 234/500\n",
      "30/30 [==============================] - 1s 45ms/step - loss: 0.3197 - accuracy: 0.8858 - val_loss: 1.0199 - val_accuracy: 0.7500\n",
      "Epoch 235/500\n",
      "30/30 [==============================] - 1s 44ms/step - loss: 0.3766 - accuracy: 0.8579 - val_loss: 1.0199 - val_accuracy: 0.7400\n",
      "Epoch 236/500\n",
      "30/30 [==============================] - 1s 44ms/step - loss: 0.3371 - accuracy: 0.8680 - val_loss: 1.0953 - val_accuracy: 0.7300\n",
      "Epoch 237/500\n",
      "30/30 [==============================] - 1s 44ms/step - loss: 0.3573 - accuracy: 0.8746 - val_loss: 1.1143 - val_accuracy: 0.7500\n",
      "Epoch 238/500\n",
      "30/30 [==============================] - 1s 44ms/step - loss: 0.2772 - accuracy: 0.9042 - val_loss: 1.0142 - val_accuracy: 0.7200\n",
      "Epoch 239/500\n",
      "30/30 [==============================] - 1s 44ms/step - loss: 0.3292 - accuracy: 0.8892 - val_loss: 1.1076 - val_accuracy: 0.7500\n",
      "Epoch 240/500\n",
      "30/30 [==============================] - 1s 44ms/step - loss: 0.2993 - accuracy: 0.8795 - val_loss: 1.1643 - val_accuracy: 0.7300\n",
      "Epoch 241/500\n",
      "30/30 [==============================] - 1s 44ms/step - loss: 0.3036 - accuracy: 0.9048 - val_loss: 1.0509 - val_accuracy: 0.7500\n",
      "Epoch 242/500\n",
      "30/30 [==============================] - 1s 43ms/step - loss: 0.3009 - accuracy: 0.8900 - val_loss: 1.1068 - val_accuracy: 0.7400\n",
      "Epoch 243/500\n",
      "30/30 [==============================] - 1s 44ms/step - loss: 0.3216 - accuracy: 0.8760 - val_loss: 1.0591 - val_accuracy: 0.7400\n",
      "Epoch 244/500\n",
      "30/30 [==============================] - 1s 44ms/step - loss: 0.3095 - accuracy: 0.8927 - val_loss: 1.1363 - val_accuracy: 0.7300\n",
      "Epoch 245/500\n",
      "30/30 [==============================] - 1s 45ms/step - loss: 0.2792 - accuracy: 0.8832 - val_loss: 1.1421 - val_accuracy: 0.7300\n",
      "Epoch 246/500\n",
      "30/30 [==============================] - 1s 44ms/step - loss: 0.3395 - accuracy: 0.8724 - val_loss: 1.0715 - val_accuracy: 0.7200\n",
      "Epoch 247/500\n",
      "30/30 [==============================] - 1s 45ms/step - loss: 0.2922 - accuracy: 0.8823 - val_loss: 1.3037 - val_accuracy: 0.7100\n",
      "Epoch 248/500\n",
      "30/30 [==============================] - 1s 45ms/step - loss: 0.3097 - accuracy: 0.8957 - val_loss: 1.1012 - val_accuracy: 0.7500\n",
      "Epoch 249/500\n",
      "30/30 [==============================] - 1s 44ms/step - loss: 0.2993 - accuracy: 0.8972 - val_loss: 1.0675 - val_accuracy: 0.7000\n",
      "Epoch 250/500\n",
      "30/30 [==============================] - 1s 45ms/step - loss: 0.3049 - accuracy: 0.8850 - val_loss: 1.0127 - val_accuracy: 0.7900\n",
      "Epoch 251/500\n",
      "30/30 [==============================] - 1s 43ms/step - loss: 0.2878 - accuracy: 0.8972 - val_loss: 1.1108 - val_accuracy: 0.7200\n",
      "Epoch 252/500\n",
      "30/30 [==============================] - 1s 45ms/step - loss: 0.2649 - accuracy: 0.8974 - val_loss: 1.0700 - val_accuracy: 0.7500\n",
      "Epoch 253/500\n",
      "30/30 [==============================] - 1s 44ms/step - loss: 0.3462 - accuracy: 0.8964 - val_loss: 1.0637 - val_accuracy: 0.7400\n",
      "Epoch 254/500\n",
      "30/30 [==============================] - 1s 44ms/step - loss: 0.2679 - accuracy: 0.8820 - val_loss: 1.1289 - val_accuracy: 0.7500\n",
      "Epoch 255/500\n",
      "30/30 [==============================] - 1s 45ms/step - loss: 0.3142 - accuracy: 0.8925 - val_loss: 1.0420 - val_accuracy: 0.7400\n",
      "Epoch 256/500\n",
      "30/30 [==============================] - 1s 44ms/step - loss: 0.2604 - accuracy: 0.9204 - val_loss: 1.1461 - val_accuracy: 0.7100\n",
      "Epoch 257/500\n",
      "30/30 [==============================] - 1s 44ms/step - loss: 0.2262 - accuracy: 0.9173 - val_loss: 1.1925 - val_accuracy: 0.7300\n",
      "Epoch 258/500\n",
      "30/30 [==============================] - 1s 43ms/step - loss: 0.2457 - accuracy: 0.9067 - val_loss: 1.2335 - val_accuracy: 0.7100\n",
      "Epoch 259/500\n",
      "30/30 [==============================] - 1s 44ms/step - loss: 0.2522 - accuracy: 0.9153 - val_loss: 1.1873 - val_accuracy: 0.7300\n",
      "Epoch 260/500\n",
      "30/30 [==============================] - 1s 44ms/step - loss: 0.2770 - accuracy: 0.8956 - val_loss: 1.2112 - val_accuracy: 0.7200\n",
      "Epoch 261/500\n",
      "30/30 [==============================] - 1s 44ms/step - loss: 0.2947 - accuracy: 0.8889 - val_loss: 1.3724 - val_accuracy: 0.6900\n",
      "Epoch 262/500\n",
      "30/30 [==============================] - 1s 45ms/step - loss: 0.3101 - accuracy: 0.8883 - val_loss: 1.1660 - val_accuracy: 0.7300\n",
      "Epoch 263/500\n",
      "30/30 [==============================] - 1s 44ms/step - loss: 0.2644 - accuracy: 0.8973 - val_loss: 1.1424 - val_accuracy: 0.7700\n",
      "Epoch 264/500\n",
      "30/30 [==============================] - 1s 45ms/step - loss: 0.1947 - accuracy: 0.9303 - val_loss: 1.1113 - val_accuracy: 0.7300\n",
      "Epoch 265/500\n",
      "30/30 [==============================] - 1s 44ms/step - loss: 0.2347 - accuracy: 0.9072 - val_loss: 1.1139 - val_accuracy: 0.7400\n",
      "Epoch 266/500\n",
      "30/30 [==============================] - 1s 43ms/step - loss: 0.2593 - accuracy: 0.9028 - val_loss: 1.2718 - val_accuracy: 0.7000\n",
      "Epoch 267/500\n",
      "30/30 [==============================] - 1s 43ms/step - loss: 0.2794 - accuracy: 0.8917 - val_loss: 1.1565 - val_accuracy: 0.7300\n",
      "Epoch 268/500\n",
      "30/30 [==============================] - 1s 44ms/step - loss: 0.2948 - accuracy: 0.8925 - val_loss: 1.1288 - val_accuracy: 0.7300\n",
      "Epoch 269/500\n",
      "30/30 [==============================] - 1s 44ms/step - loss: 0.2705 - accuracy: 0.8999 - val_loss: 1.0986 - val_accuracy: 0.7000\n",
      "Epoch 270/500\n",
      "30/30 [==============================] - 1s 43ms/step - loss: 0.2480 - accuracy: 0.9009 - val_loss: 1.1154 - val_accuracy: 0.7400\n",
      "Epoch 271/500\n",
      "30/30 [==============================] - 1s 44ms/step - loss: 0.2550 - accuracy: 0.9082 - val_loss: 1.0863 - val_accuracy: 0.7400\n",
      "Epoch 272/500\n",
      "30/30 [==============================] - 1s 44ms/step - loss: 0.2198 - accuracy: 0.9230 - val_loss: 1.1795 - val_accuracy: 0.7300\n",
      "Epoch 273/500\n",
      "30/30 [==============================] - 1s 44ms/step - loss: 0.2985 - accuracy: 0.9010 - val_loss: 1.1402 - val_accuracy: 0.7500\n",
      "Epoch 274/500\n",
      "30/30 [==============================] - 1s 45ms/step - loss: 0.2429 - accuracy: 0.9068 - val_loss: 1.1090 - val_accuracy: 0.7500\n",
      "Epoch 275/500\n",
      "30/30 [==============================] - 1s 44ms/step - loss: 0.2509 - accuracy: 0.9168 - val_loss: 1.2585 - val_accuracy: 0.7200\n",
      "Epoch 276/500\n",
      "30/30 [==============================] - 1s 43ms/step - loss: 0.2569 - accuracy: 0.9032 - val_loss: 1.2806 - val_accuracy: 0.7000\n",
      "Epoch 277/500\n",
      "30/30 [==============================] - 1s 44ms/step - loss: 0.2210 - accuracy: 0.9204 - val_loss: 1.1802 - val_accuracy: 0.7400\n",
      "Epoch 278/500\n",
      "30/30 [==============================] - 1s 44ms/step - loss: 0.2909 - accuracy: 0.8889 - val_loss: 1.1423 - val_accuracy: 0.7200\n",
      "Epoch 279/500\n",
      "30/30 [==============================] - 1s 44ms/step - loss: 0.2523 - accuracy: 0.9072 - val_loss: 1.1110 - val_accuracy: 0.7200\n",
      "Epoch 280/500\n",
      "30/30 [==============================] - 1s 44ms/step - loss: 0.2282 - accuracy: 0.9177 - val_loss: 1.3037 - val_accuracy: 0.6900\n",
      "Epoch 281/500\n",
      "30/30 [==============================] - 1s 44ms/step - loss: 0.2348 - accuracy: 0.9153 - val_loss: 1.2435 - val_accuracy: 0.7300\n",
      "Epoch 282/500\n",
      "30/30 [==============================] - 1s 44ms/step - loss: 0.2716 - accuracy: 0.8934 - val_loss: 1.2526 - val_accuracy: 0.7400\n",
      "Epoch 283/500\n",
      "30/30 [==============================] - 1s 44ms/step - loss: 0.2337 - accuracy: 0.8976 - val_loss: 1.1932 - val_accuracy: 0.7800\n",
      "Epoch 284/500\n",
      "30/30 [==============================] - 1s 44ms/step - loss: 0.2313 - accuracy: 0.9148 - val_loss: 1.1877 - val_accuracy: 0.7400\n",
      "Epoch 285/500\n",
      "30/30 [==============================] - 1s 44ms/step - loss: 0.2354 - accuracy: 0.9304 - val_loss: 1.2238 - val_accuracy: 0.7100\n",
      "Epoch 286/500\n",
      "30/30 [==============================] - 1s 44ms/step - loss: 0.2436 - accuracy: 0.9136 - val_loss: 1.2647 - val_accuracy: 0.7600\n",
      "Epoch 287/500\n",
      "30/30 [==============================] - 1s 43ms/step - loss: 0.2969 - accuracy: 0.8952 - val_loss: 1.1951 - val_accuracy: 0.7400\n",
      "Epoch 288/500\n",
      "30/30 [==============================] - 1s 44ms/step - loss: 0.2217 - accuracy: 0.9268 - val_loss: 1.3038 - val_accuracy: 0.7100\n",
      "Epoch 289/500\n",
      "30/30 [==============================] - 1s 44ms/step - loss: 0.2828 - accuracy: 0.8858 - val_loss: 1.3048 - val_accuracy: 0.7000\n",
      "Epoch 290/500\n",
      "30/30 [==============================] - 1s 44ms/step - loss: 0.2328 - accuracy: 0.9184 - val_loss: 1.1983 - val_accuracy: 0.7600\n",
      "Epoch 291/500\n",
      "30/30 [==============================] - 1s 44ms/step - loss: 0.2621 - accuracy: 0.8941 - val_loss: 1.2591 - val_accuracy: 0.7100\n",
      "Epoch 292/500\n",
      "30/30 [==============================] - 1s 43ms/step - loss: 0.2103 - accuracy: 0.9297 - val_loss: 1.2478 - val_accuracy: 0.7500\n",
      "Epoch 293/500\n",
      "30/30 [==============================] - 1s 44ms/step - loss: 0.2191 - accuracy: 0.9215 - val_loss: 1.1980 - val_accuracy: 0.7400\n",
      "Epoch 294/500\n",
      "30/30 [==============================] - 1s 44ms/step - loss: 0.1955 - accuracy: 0.9303 - val_loss: 1.2750 - val_accuracy: 0.7400\n",
      "Epoch 295/500\n",
      "30/30 [==============================] - 1s 44ms/step - loss: 0.2786 - accuracy: 0.9011 - val_loss: 1.2694 - val_accuracy: 0.7400\n",
      "Epoch 296/500\n",
      "30/30 [==============================] - 1s 43ms/step - loss: 0.1639 - accuracy: 0.9506 - val_loss: 1.1941 - val_accuracy: 0.7100\n",
      "Epoch 297/500\n",
      "30/30 [==============================] - 1s 45ms/step - loss: 0.2146 - accuracy: 0.9270 - val_loss: 1.2776 - val_accuracy: 0.7300\n",
      "Epoch 298/500\n",
      "30/30 [==============================] - 1s 44ms/step - loss: 0.2226 - accuracy: 0.9267 - val_loss: 1.2119 - val_accuracy: 0.7400\n",
      "Epoch 299/500\n",
      "30/30 [==============================] - 1s 43ms/step - loss: 0.2428 - accuracy: 0.9281 - val_loss: 1.1789 - val_accuracy: 0.7500\n",
      "Epoch 300/500\n",
      "30/30 [==============================] - 1s 44ms/step - loss: 0.2170 - accuracy: 0.9271 - val_loss: 1.2413 - val_accuracy: 0.7500\n",
      "Epoch 301/500\n",
      "30/30 [==============================] - 1s 44ms/step - loss: 0.2404 - accuracy: 0.9137 - val_loss: 1.2760 - val_accuracy: 0.7300\n",
      "Epoch 302/500\n",
      "30/30 [==============================] - 1s 44ms/step - loss: 0.2436 - accuracy: 0.9198 - val_loss: 1.2490 - val_accuracy: 0.7300\n",
      "Epoch 303/500\n",
      "30/30 [==============================] - 1s 43ms/step - loss: 0.1686 - accuracy: 0.9397 - val_loss: 1.3017 - val_accuracy: 0.7600\n",
      "Epoch 304/500\n",
      "30/30 [==============================] - 1s 43ms/step - loss: 0.2027 - accuracy: 0.9284 - val_loss: 1.2778 - val_accuracy: 0.7200\n",
      "Epoch 305/500\n",
      "30/30 [==============================] - 1s 44ms/step - loss: 0.2594 - accuracy: 0.9116 - val_loss: 1.3213 - val_accuracy: 0.7200\n",
      "Epoch 306/500\n",
      "30/30 [==============================] - 1s 44ms/step - loss: 0.1998 - accuracy: 0.9330 - val_loss: 1.2396 - val_accuracy: 0.7500\n",
      "Epoch 307/500\n",
      "30/30 [==============================] - 1s 44ms/step - loss: 0.1885 - accuracy: 0.9231 - val_loss: 1.3978 - val_accuracy: 0.7000\n",
      "Epoch 308/500\n",
      "30/30 [==============================] - 1s 43ms/step - loss: 0.2077 - accuracy: 0.9167 - val_loss: 1.2103 - val_accuracy: 0.7500\n",
      "Epoch 309/500\n",
      "30/30 [==============================] - 1s 44ms/step - loss: 0.2146 - accuracy: 0.9212 - val_loss: 1.2251 - val_accuracy: 0.7400\n",
      "Epoch 310/500\n",
      "30/30 [==============================] - 1s 44ms/step - loss: 0.2303 - accuracy: 0.9302 - val_loss: 1.2541 - val_accuracy: 0.7600\n",
      "Epoch 311/500\n",
      "30/30 [==============================] - 1s 44ms/step - loss: 0.2086 - accuracy: 0.9250 - val_loss: 1.2850 - val_accuracy: 0.7600\n",
      "Epoch 312/500\n",
      "30/30 [==============================] - 1s 44ms/step - loss: 0.1906 - accuracy: 0.9238 - val_loss: 1.3927 - val_accuracy: 0.7300\n",
      "Epoch 313/500\n",
      "30/30 [==============================] - 1s 44ms/step - loss: 0.2119 - accuracy: 0.9290 - val_loss: 1.2355 - val_accuracy: 0.7300\n",
      "Epoch 314/500\n",
      "30/30 [==============================] - 1s 44ms/step - loss: 0.1767 - accuracy: 0.9511 - val_loss: 1.2830 - val_accuracy: 0.7400\n",
      "Epoch 315/500\n",
      "30/30 [==============================] - 1s 43ms/step - loss: 0.2336 - accuracy: 0.9174 - val_loss: 1.4858 - val_accuracy: 0.7500\n",
      "Epoch 316/500\n",
      "30/30 [==============================] - 1s 44ms/step - loss: 0.2294 - accuracy: 0.9109 - val_loss: 1.2480 - val_accuracy: 0.7700\n",
      "Epoch 317/500\n",
      "30/30 [==============================] - 1s 44ms/step - loss: 0.1979 - accuracy: 0.9422 - val_loss: 1.2872 - val_accuracy: 0.7300\n",
      "Epoch 318/500\n",
      "30/30 [==============================] - 1s 43ms/step - loss: 0.1558 - accuracy: 0.9463 - val_loss: 1.2778 - val_accuracy: 0.7000\n",
      "Epoch 319/500\n",
      "30/30 [==============================] - 1s 43ms/step - loss: 0.1959 - accuracy: 0.9243 - val_loss: 1.4070 - val_accuracy: 0.7300\n",
      "Epoch 320/500\n",
      "30/30 [==============================] - 1s 44ms/step - loss: 0.1940 - accuracy: 0.9356 - val_loss: 1.4198 - val_accuracy: 0.7200\n",
      "Epoch 321/500\n",
      "30/30 [==============================] - 1s 44ms/step - loss: 0.1984 - accuracy: 0.9285 - val_loss: 1.2765 - val_accuracy: 0.7200\n",
      "Epoch 322/500\n",
      "30/30 [==============================] - 1s 44ms/step - loss: 0.1935 - accuracy: 0.9193 - val_loss: 1.3926 - val_accuracy: 0.7200\n",
      "Epoch 323/500\n",
      "30/30 [==============================] - 1s 43ms/step - loss: 0.2033 - accuracy: 0.9408 - val_loss: 1.4525 - val_accuracy: 0.7000\n",
      "Epoch 324/500\n",
      "30/30 [==============================] - 1s 44ms/step - loss: 0.2100 - accuracy: 0.9228 - val_loss: 1.3384 - val_accuracy: 0.7200\n",
      "Epoch 325/500\n",
      "30/30 [==============================] - 1s 43ms/step - loss: 0.2461 - accuracy: 0.9164 - val_loss: 1.3779 - val_accuracy: 0.6800\n",
      "Epoch 326/500\n",
      "30/30 [==============================] - 1s 44ms/step - loss: 0.1588 - accuracy: 0.9418 - val_loss: 1.3041 - val_accuracy: 0.7600\n",
      "Epoch 327/500\n",
      "30/30 [==============================] - 1s 43ms/step - loss: 0.1911 - accuracy: 0.9313 - val_loss: 1.3057 - val_accuracy: 0.7500\n",
      "Epoch 328/500\n",
      "30/30 [==============================] - 1s 44ms/step - loss: 0.1948 - accuracy: 0.9183 - val_loss: 1.3191 - val_accuracy: 0.7400\n",
      "Epoch 329/500\n",
      "30/30 [==============================] - 1s 43ms/step - loss: 0.2082 - accuracy: 0.9391 - val_loss: 1.3486 - val_accuracy: 0.7400\n",
      "Epoch 330/500\n",
      "30/30 [==============================] - 1s 44ms/step - loss: 0.1739 - accuracy: 0.9392 - val_loss: 1.4513 - val_accuracy: 0.7100\n",
      "Epoch 331/500\n",
      "30/30 [==============================] - 1s 44ms/step - loss: 0.1939 - accuracy: 0.9286 - val_loss: 1.4066 - val_accuracy: 0.7200\n",
      "Epoch 332/500\n",
      "30/30 [==============================] - 1s 43ms/step - loss: 0.1395 - accuracy: 0.9505 - val_loss: 1.4542 - val_accuracy: 0.7200\n",
      "Epoch 333/500\n",
      "30/30 [==============================] - 1s 44ms/step - loss: 0.1854 - accuracy: 0.9322 - val_loss: 1.3789 - val_accuracy: 0.7300\n",
      "Epoch 334/500\n",
      "30/30 [==============================] - 1s 43ms/step - loss: 0.1788 - accuracy: 0.9162 - val_loss: 1.5266 - val_accuracy: 0.7000\n",
      "Epoch 335/500\n",
      "30/30 [==============================] - 1s 43ms/step - loss: 0.1899 - accuracy: 0.9330 - val_loss: 1.4256 - val_accuracy: 0.7200\n",
      "Epoch 336/500\n",
      "30/30 [==============================] - 1s 44ms/step - loss: 0.1860 - accuracy: 0.9289 - val_loss: 1.3964 - val_accuracy: 0.7200\n",
      "Epoch 337/500\n",
      "30/30 [==============================] - 1s 44ms/step - loss: 0.2044 - accuracy: 0.9375 - val_loss: 1.4001 - val_accuracy: 0.7200\n",
      "Epoch 338/500\n",
      "30/30 [==============================] - 1s 44ms/step - loss: 0.1553 - accuracy: 0.9458 - val_loss: 1.3458 - val_accuracy: 0.7200\n",
      "Epoch 339/500\n",
      "30/30 [==============================] - 1s 44ms/step - loss: 0.1581 - accuracy: 0.9458 - val_loss: 1.4465 - val_accuracy: 0.6800\n",
      "Epoch 340/500\n",
      "30/30 [==============================] - 1s 44ms/step - loss: 0.1608 - accuracy: 0.9435 - val_loss: 1.2935 - val_accuracy: 0.7400\n",
      "Epoch 341/500\n",
      "30/30 [==============================] - 1s 44ms/step - loss: 0.2040 - accuracy: 0.9318 - val_loss: 1.5214 - val_accuracy: 0.7000\n",
      "Epoch 342/500\n",
      "30/30 [==============================] - 1s 44ms/step - loss: 0.1601 - accuracy: 0.9518 - val_loss: 1.4411 - val_accuracy: 0.7600\n",
      "Epoch 343/500\n",
      "30/30 [==============================] - 1s 44ms/step - loss: 0.1946 - accuracy: 0.9302 - val_loss: 1.3823 - val_accuracy: 0.7400\n",
      "Epoch 344/500\n",
      "30/30 [==============================] - 1s 43ms/step - loss: 0.1865 - accuracy: 0.9315 - val_loss: 1.4423 - val_accuracy: 0.6900\n",
      "Epoch 345/500\n",
      "30/30 [==============================] - 1s 44ms/step - loss: 0.1477 - accuracy: 0.9545 - val_loss: 1.4842 - val_accuracy: 0.7000\n",
      "Epoch 346/500\n",
      "30/30 [==============================] - 1s 44ms/step - loss: 0.1438 - accuracy: 0.9498 - val_loss: 1.3947 - val_accuracy: 0.7400\n",
      "Epoch 347/500\n",
      "30/30 [==============================] - 1s 44ms/step - loss: 0.1733 - accuracy: 0.9407 - val_loss: 1.6355 - val_accuracy: 0.6500\n",
      "Epoch 348/500\n",
      "30/30 [==============================] - 1s 44ms/step - loss: 0.1662 - accuracy: 0.9471 - val_loss: 1.4931 - val_accuracy: 0.7300\n",
      "Epoch 349/500\n",
      "30/30 [==============================] - 1s 45ms/step - loss: 0.1811 - accuracy: 0.9428 - val_loss: 1.5302 - val_accuracy: 0.6900\n",
      "Epoch 350/500\n",
      "30/30 [==============================] - 1s 44ms/step - loss: 0.1568 - accuracy: 0.9524 - val_loss: 1.4555 - val_accuracy: 0.7000\n",
      "Epoch 351/500\n",
      "30/30 [==============================] - 1s 43ms/step - loss: 0.1484 - accuracy: 0.9454 - val_loss: 1.4023 - val_accuracy: 0.6900\n",
      "Epoch 352/500\n",
      "30/30 [==============================] - 1s 44ms/step - loss: 0.1623 - accuracy: 0.9413 - val_loss: 1.4955 - val_accuracy: 0.7200\n",
      "Epoch 353/500\n",
      "30/30 [==============================] - 1s 43ms/step - loss: 0.1569 - accuracy: 0.9520 - val_loss: 1.4149 - val_accuracy: 0.7300\n",
      "Epoch 354/500\n",
      "30/30 [==============================] - 1s 44ms/step - loss: 0.1758 - accuracy: 0.9347 - val_loss: 1.3425 - val_accuracy: 0.7500\n",
      "Epoch 355/500\n",
      "30/30 [==============================] - 1s 44ms/step - loss: 0.1757 - accuracy: 0.9338 - val_loss: 1.4380 - val_accuracy: 0.7300\n",
      "Epoch 356/500\n",
      "30/30 [==============================] - 1s 44ms/step - loss: 0.2023 - accuracy: 0.9334 - val_loss: 1.5499 - val_accuracy: 0.6800\n",
      "Epoch 357/500\n",
      "30/30 [==============================] - 1s 44ms/step - loss: 0.1218 - accuracy: 0.9519 - val_loss: 1.6995 - val_accuracy: 0.6600\n",
      "Epoch 358/500\n",
      "30/30 [==============================] - 1s 43ms/step - loss: 0.1516 - accuracy: 0.9464 - val_loss: 1.3892 - val_accuracy: 0.7200\n",
      "Epoch 359/500\n",
      "30/30 [==============================] - 1s 43ms/step - loss: 0.1763 - accuracy: 0.9345 - val_loss: 1.3876 - val_accuracy: 0.7500\n",
      "Epoch 360/500\n",
      "30/30 [==============================] - 1s 43ms/step - loss: 0.1479 - accuracy: 0.9460 - val_loss: 1.4381 - val_accuracy: 0.7300\n",
      "Epoch 361/500\n",
      "30/30 [==============================] - 1s 44ms/step - loss: 0.1117 - accuracy: 0.9740 - val_loss: 1.3736 - val_accuracy: 0.7500\n",
      "Epoch 362/500\n",
      "30/30 [==============================] - 1s 44ms/step - loss: 0.1429 - accuracy: 0.9487 - val_loss: 1.4060 - val_accuracy: 0.7100\n",
      "Epoch 363/500\n",
      "30/30 [==============================] - 1s 43ms/step - loss: 0.1109 - accuracy: 0.9631 - val_loss: 1.5042 - val_accuracy: 0.7500\n",
      "Epoch 364/500\n",
      "30/30 [==============================] - 1s 44ms/step - loss: 0.1390 - accuracy: 0.9471 - val_loss: 1.4679 - val_accuracy: 0.7500\n",
      "Epoch 365/500\n",
      "30/30 [==============================] - 1s 44ms/step - loss: 0.1297 - accuracy: 0.9633 - val_loss: 1.3797 - val_accuracy: 0.7300\n",
      "Epoch 366/500\n",
      "30/30 [==============================] - 1s 43ms/step - loss: 0.1381 - accuracy: 0.9562 - val_loss: 1.4542 - val_accuracy: 0.6800\n",
      "Epoch 367/500\n",
      "30/30 [==============================] - 1s 43ms/step - loss: 0.1405 - accuracy: 0.9536 - val_loss: 1.5679 - val_accuracy: 0.7000\n",
      "Epoch 368/500\n",
      "30/30 [==============================] - 1s 44ms/step - loss: 0.1615 - accuracy: 0.9424 - val_loss: 1.4292 - val_accuracy: 0.7400\n",
      "Epoch 369/500\n",
      "30/30 [==============================] - 1s 44ms/step - loss: 0.1534 - accuracy: 0.9473 - val_loss: 1.4701 - val_accuracy: 0.7300\n",
      "Epoch 370/500\n",
      "30/30 [==============================] - 1s 44ms/step - loss: 0.1503 - accuracy: 0.9494 - val_loss: 1.4501 - val_accuracy: 0.7000\n",
      "Epoch 371/500\n",
      "30/30 [==============================] - 1s 44ms/step - loss: 0.1284 - accuracy: 0.9533 - val_loss: 1.4682 - val_accuracy: 0.7000\n",
      "Epoch 372/500\n",
      "30/30 [==============================] - 1s 43ms/step - loss: 0.1916 - accuracy: 0.9432 - val_loss: 1.4287 - val_accuracy: 0.7400\n",
      "Epoch 373/500\n",
      "30/30 [==============================] - 1s 43ms/step - loss: 0.1447 - accuracy: 0.9441 - val_loss: 1.4550 - val_accuracy: 0.7200\n",
      "Epoch 374/500\n",
      "30/30 [==============================] - 1s 43ms/step - loss: 0.1438 - accuracy: 0.9638 - val_loss: 1.8431 - val_accuracy: 0.6800\n",
      "Epoch 375/500\n",
      "30/30 [==============================] - 1s 44ms/step - loss: 0.1583 - accuracy: 0.9453 - val_loss: 1.4667 - val_accuracy: 0.6900\n",
      "Epoch 376/500\n",
      "30/30 [==============================] - 1s 44ms/step - loss: 0.1379 - accuracy: 0.9476 - val_loss: 1.4649 - val_accuracy: 0.7500\n",
      "Epoch 377/500\n",
      "30/30 [==============================] - 1s 44ms/step - loss: 0.1034 - accuracy: 0.9639 - val_loss: 1.4664 - val_accuracy: 0.7200\n",
      "Epoch 378/500\n",
      "30/30 [==============================] - 1s 44ms/step - loss: 0.1467 - accuracy: 0.9484 - val_loss: 1.4559 - val_accuracy: 0.7100\n",
      "Epoch 379/500\n",
      "30/30 [==============================] - 1s 43ms/step - loss: 0.1281 - accuracy: 0.9561 - val_loss: 1.5191 - val_accuracy: 0.7200\n",
      "Epoch 380/500\n",
      "30/30 [==============================] - 1s 44ms/step - loss: 0.1495 - accuracy: 0.9535 - val_loss: 1.4725 - val_accuracy: 0.7200\n",
      "Epoch 381/500\n",
      "30/30 [==============================] - 1s 44ms/step - loss: 0.1399 - accuracy: 0.9628 - val_loss: 1.5212 - val_accuracy: 0.7000\n",
      "Epoch 382/500\n",
      "30/30 [==============================] - 1s 43ms/step - loss: 0.1468 - accuracy: 0.9554 - val_loss: 1.4700 - val_accuracy: 0.7400\n",
      "Epoch 383/500\n",
      "30/30 [==============================] - 1s 45ms/step - loss: 0.1110 - accuracy: 0.9631 - val_loss: 1.4928 - val_accuracy: 0.7300\n",
      "Epoch 384/500\n",
      "30/30 [==============================] - 1s 43ms/step - loss: 0.1240 - accuracy: 0.9585 - val_loss: 1.5680 - val_accuracy: 0.7100\n",
      "Epoch 385/500\n",
      "30/30 [==============================] - 1s 44ms/step - loss: 0.1063 - accuracy: 0.9664 - val_loss: 1.5689 - val_accuracy: 0.7000\n",
      "Epoch 386/500\n",
      "30/30 [==============================] - 1s 43ms/step - loss: 0.1464 - accuracy: 0.9430 - val_loss: 1.6101 - val_accuracy: 0.7200\n",
      "Epoch 387/500\n",
      "30/30 [==============================] - 1s 44ms/step - loss: 0.1319 - accuracy: 0.9601 - val_loss: 1.3802 - val_accuracy: 0.7300\n",
      "Epoch 388/500\n",
      "30/30 [==============================] - 1s 44ms/step - loss: 0.1393 - accuracy: 0.9471 - val_loss: 1.5995 - val_accuracy: 0.6800\n",
      "Epoch 389/500\n",
      "30/30 [==============================] - 1s 43ms/step - loss: 0.1378 - accuracy: 0.9402 - val_loss: 1.6636 - val_accuracy: 0.7200\n",
      "Epoch 390/500\n",
      "30/30 [==============================] - 1s 44ms/step - loss: 0.1234 - accuracy: 0.9574 - val_loss: 1.4341 - val_accuracy: 0.7100\n",
      "Epoch 391/500\n",
      "30/30 [==============================] - 1s 43ms/step - loss: 0.1480 - accuracy: 0.9401 - val_loss: 1.4480 - val_accuracy: 0.7300\n",
      "Epoch 392/500\n",
      "30/30 [==============================] - 1s 44ms/step - loss: 0.1140 - accuracy: 0.9691 - val_loss: 1.5744 - val_accuracy: 0.7300\n",
      "Epoch 393/500\n",
      "30/30 [==============================] - 1s 43ms/step - loss: 0.1302 - accuracy: 0.9582 - val_loss: 1.5004 - val_accuracy: 0.7300\n",
      "Epoch 394/500\n",
      "30/30 [==============================] - 1s 44ms/step - loss: 0.1266 - accuracy: 0.9623 - val_loss: 1.5175 - val_accuracy: 0.7100\n",
      "Epoch 395/500\n",
      "30/30 [==============================] - 1s 45ms/step - loss: 0.1302 - accuracy: 0.9571 - val_loss: 1.4065 - val_accuracy: 0.7600\n",
      "Epoch 396/500\n",
      "30/30 [==============================] - 1s 43ms/step - loss: 0.1242 - accuracy: 0.9604 - val_loss: 1.5348 - val_accuracy: 0.7300\n",
      "Epoch 397/500\n",
      "30/30 [==============================] - 1s 44ms/step - loss: 0.1087 - accuracy: 0.9614 - val_loss: 1.5621 - val_accuracy: 0.7400\n",
      "Epoch 398/500\n",
      "30/30 [==============================] - 1s 44ms/step - loss: 0.1198 - accuracy: 0.9568 - val_loss: 1.7583 - val_accuracy: 0.6800\n",
      "Epoch 399/500\n",
      "30/30 [==============================] - 1s 44ms/step - loss: 0.1157 - accuracy: 0.9595 - val_loss: 1.6025 - val_accuracy: 0.7500\n",
      "Epoch 400/500\n",
      "30/30 [==============================] - 1s 43ms/step - loss: 0.1180 - accuracy: 0.9553 - val_loss: 1.6313 - val_accuracy: 0.7300\n",
      "Epoch 401/500\n",
      "30/30 [==============================] - 1s 44ms/step - loss: 0.1401 - accuracy: 0.9418 - val_loss: 1.7668 - val_accuracy: 0.7100\n",
      "Epoch 402/500\n",
      "30/30 [==============================] - 1s 44ms/step - loss: 0.1324 - accuracy: 0.9483 - val_loss: 1.5338 - val_accuracy: 0.7200\n",
      "Epoch 403/500\n",
      "30/30 [==============================] - 1s 42ms/step - loss: 0.1329 - accuracy: 0.9627 - val_loss: 1.5818 - val_accuracy: 0.6900\n",
      "Epoch 404/500\n",
      "30/30 [==============================] - 1s 44ms/step - loss: 0.1103 - accuracy: 0.9562 - val_loss: 1.5369 - val_accuracy: 0.7200\n",
      "Epoch 405/500\n",
      "30/30 [==============================] - 1s 44ms/step - loss: 0.2085 - accuracy: 0.9350 - val_loss: 1.6201 - val_accuracy: 0.7000\n",
      "Epoch 406/500\n",
      "30/30 [==============================] - 1s 44ms/step - loss: 0.1146 - accuracy: 0.9589 - val_loss: 1.5181 - val_accuracy: 0.7500\n",
      "Epoch 407/500\n",
      "30/30 [==============================] - 1s 43ms/step - loss: 0.0988 - accuracy: 0.9699 - val_loss: 1.5248 - val_accuracy: 0.7200\n",
      "Epoch 408/500\n",
      "30/30 [==============================] - 1s 43ms/step - loss: 0.1419 - accuracy: 0.9532 - val_loss: 1.4983 - val_accuracy: 0.7300\n",
      "Epoch 409/500\n",
      "30/30 [==============================] - 1s 44ms/step - loss: 0.1331 - accuracy: 0.9509 - val_loss: 1.6278 - val_accuracy: 0.7200\n",
      "Epoch 410/500\n",
      "30/30 [==============================] - 1s 43ms/step - loss: 0.1216 - accuracy: 0.9535 - val_loss: 1.5877 - val_accuracy: 0.7200\n",
      "Epoch 411/500\n",
      "30/30 [==============================] - 1s 44ms/step - loss: 0.0966 - accuracy: 0.9649 - val_loss: 1.5039 - val_accuracy: 0.7400\n",
      "Epoch 412/500\n",
      "30/30 [==============================] - 1s 43ms/step - loss: 0.1096 - accuracy: 0.9634 - val_loss: 1.5658 - val_accuracy: 0.7100\n",
      "Epoch 413/500\n",
      "30/30 [==============================] - 1s 44ms/step - loss: 0.1090 - accuracy: 0.9657 - val_loss: 1.6621 - val_accuracy: 0.7200\n",
      "Epoch 414/500\n",
      "30/30 [==============================] - 1s 44ms/step - loss: 0.1234 - accuracy: 0.9473 - val_loss: 1.5057 - val_accuracy: 0.7200\n",
      "Epoch 415/500\n",
      "30/30 [==============================] - 1s 43ms/step - loss: 0.1402 - accuracy: 0.9658 - val_loss: 1.5163 - val_accuracy: 0.7300\n",
      "Epoch 416/500\n",
      "30/30 [==============================] - 1s 44ms/step - loss: 0.1074 - accuracy: 0.9644 - val_loss: 1.5905 - val_accuracy: 0.7300\n",
      "Epoch 417/500\n",
      "30/30 [==============================] - 1s 43ms/step - loss: 0.1125 - accuracy: 0.9636 - val_loss: 1.5495 - val_accuracy: 0.7200\n",
      "Epoch 418/500\n",
      "30/30 [==============================] - 1s 44ms/step - loss: 0.1017 - accuracy: 0.9618 - val_loss: 1.6094 - val_accuracy: 0.6500\n",
      "Epoch 419/500\n",
      "30/30 [==============================] - 1s 43ms/step - loss: 0.1221 - accuracy: 0.9550 - val_loss: 1.4682 - val_accuracy: 0.7400\n",
      "Epoch 420/500\n",
      "30/30 [==============================] - 1s 44ms/step - loss: 0.1035 - accuracy: 0.9626 - val_loss: 1.4588 - val_accuracy: 0.7400\n",
      "Epoch 421/500\n",
      "30/30 [==============================] - 1s 44ms/step - loss: 0.0809 - accuracy: 0.9722 - val_loss: 1.6069 - val_accuracy: 0.7000\n",
      "Epoch 422/500\n",
      "30/30 [==============================] - 1s 44ms/step - loss: 0.1206 - accuracy: 0.9534 - val_loss: 1.5462 - val_accuracy: 0.7200\n",
      "Epoch 423/500\n",
      "30/30 [==============================] - 1s 44ms/step - loss: 0.1295 - accuracy: 0.9476 - val_loss: 1.5389 - val_accuracy: 0.7400\n",
      "Epoch 424/500\n",
      "30/30 [==============================] - 1s 43ms/step - loss: 0.0849 - accuracy: 0.9748 - val_loss: 1.7207 - val_accuracy: 0.7000\n",
      "Epoch 425/500\n",
      "30/30 [==============================] - 1s 43ms/step - loss: 0.1135 - accuracy: 0.9592 - val_loss: 1.5882 - val_accuracy: 0.7400\n",
      "Epoch 426/500\n",
      "30/30 [==============================] - 1s 43ms/step - loss: 0.1006 - accuracy: 0.9655 - val_loss: 1.6684 - val_accuracy: 0.7100\n",
      "Epoch 427/500\n",
      "30/30 [==============================] - 1s 44ms/step - loss: 0.0999 - accuracy: 0.9646 - val_loss: 1.7162 - val_accuracy: 0.7100\n",
      "Epoch 428/500\n",
      "30/30 [==============================] - 1s 44ms/step - loss: 0.1054 - accuracy: 0.9627 - val_loss: 1.6261 - val_accuracy: 0.7200\n",
      "Epoch 429/500\n",
      "30/30 [==============================] - 1s 43ms/step - loss: 0.0970 - accuracy: 0.9639 - val_loss: 1.6109 - val_accuracy: 0.7100\n",
      "Epoch 430/500\n",
      "15/30 [==============>...............] - ETA: 0s - loss: 0.1144 - accuracy: 0.9761"
     ]
    }
   ],
   "source": [
    "with tf.device('/device:GPU:0'):\n",
    "  result = model.fit(\n",
    "          x= train_data,\n",
    "          y= train_labels,\n",
    "          batch_size = 30,\n",
    "          steps_per_epoch=30,\n",
    "          epochs=500,\n",
    "          validation_split=0.3,\n",
    "          validation_steps=10,\n",
    "          validation_batch_size=10)"
   ]
  },
  {
   "cell_type": "code",
   "execution_count": 23,
   "metadata": {
    "id": "FnuSBCoRwkjd"
   },
   "outputs": [],
   "source": []
  },
  {
   "cell_type": "code",
   "execution_count": 24,
   "metadata": {
    "colab": {
     "base_uri": "https://localhost:8080/"
    },
    "id": "kAMVOUBUhcj9",
    "outputId": "820bc072-6d16-4524-f589-db35b0f56f1d"
   },
   "outputs": [
    {
     "name": "stdout",
     "output_type": "stream",
     "text": [
      "41/41 [==============================] - 1s 21ms/step - loss: 0.8479 - accuracy: 0.6669\n"
     ]
    },
    {
     "data": {
      "text/plain": [
       "[0.8479395508766174, 0.6669236421585083]"
      ]
     },
     "execution_count": 24,
     "metadata": {
      "tags": []
     },
     "output_type": "execute_result"
    }
   ],
   "source": [
    "model.evaluate(test_data,test_labels)"
   ]
  },
  {
   "cell_type": "code",
   "execution_count": 25,
   "metadata": {
    "colab": {
     "base_uri": "https://localhost:8080/"
    },
    "id": "Ufw4FqsmU-g2",
    "outputId": "232af4c5-4cb3-41aa-99fa-41f34b7ca97e"
   },
   "outputs": [
    {
     "data": {
      "text/plain": [
       "dict_keys(['loss', 'accuracy', 'val_loss', 'val_accuracy'])"
      ]
     },
     "execution_count": 25,
     "metadata": {
      "tags": []
     },
     "output_type": "execute_result"
    }
   ],
   "source": [
    "x = result.history.keys()\n",
    "x"
   ]
  },
  {
   "cell_type": "code",
   "execution_count": 26,
   "metadata": {
    "colab": {
     "base_uri": "https://localhost:8080/",
     "height": 573
    },
    "id": "dOKPsS3HWwUn",
    "outputId": "8575f31d-7fd3-47f2-8a8e-d8df09be1925"
   },
   "outputs": [
    {
     "data": {
      "image/png": "[encoded data removed]",
      "text/plain": [
       "<Figure size 432x288 with 1 Axes>"
      ]
     },
     "metadata": {
      "needs_background": "light",
      "tags": []
     },
     "output_type": "display_data"
    },
    {
     "data": {
      "image/png": "[encoded data removed]",
      "text/plain": [
       "<Figure size 432x288 with 1 Axes>"
      ]
     },
     "metadata": {
      "needs_background": "light",
      "tags": []
     },
     "output_type": "display_data"
    }
   ],
   "source": [
    "\n",
    "# Visualize training history\n",
    "from keras.models import Sequential\n",
    "from keras.layers import Dense\n",
    "import matplotlib.pyplot as plt\n",
    "import numpy\n",
    "plt.plot(result.history['accuracy'])\n",
    "plt.plot(result.history['val_accuracy'])\n",
    "plt.title('model accuracy')\n",
    "plt.ylabel('accuracy')\n",
    "plt.xlabel('epoch')\n",
    "plt.legend(['train', 'test'], loc='upper left')\n",
    "plt.show()\n",
    "# summarize history for loss\n",
    "plt.plot(result.history['loss'])\n",
    "plt.plot(result.history['val_loss'])\n",
    "plt.title('model loss')\n",
    "plt.ylabel('loss')\n",
    "plt.xlabel('epoch')\n",
    "plt.legend(['train', 'test'], loc='upper left')\n",
    "plt.show()"
   ]
  },
  {
   "cell_type": "code",
   "execution_count": 27,
   "metadata": {
    "id": "u7p4aMxliqvO"
   },
   "outputs": [],
   "source": [
    "y_pred1 = model.predict(test_data)"
   ]
  },
  {
   "cell_type": "code",
   "execution_count": 28,
   "metadata": {
    "colab": {
     "base_uri": "https://localhost:8080/"
    },
    "id": "-qhQ6JA_i0YM",
    "outputId": "6e005c90-c8d7-45db-d772-0edd048bf470"
   },
   "outputs": [
    {
     "data": {
      "text/plain": [
       "(1297, 5)"
      ]
     },
     "execution_count": 28,
     "metadata": {
      "tags": []
     },
     "output_type": "execute_result"
    }
   ],
   "source": [
    "y_pred1.shape"
   ]
  },
  {
   "cell_type": "code",
   "execution_count": 29,
   "metadata": {
    "id": "TRKNoHsBNvdR"
   },
   "outputs": [],
   "source": [
    "# list1 = []\n",
    "# for i in range(0,len(validation_generator)):\n",
    "#   for j in range(0,val_batch):\n",
    "#     try:\n",
    "#       list1.append(validation_generator[i][1][j].tolist())\n",
    "#     except:\n",
    "#       break"
   ]
  },
  {
   "cell_type": "code",
   "execution_count": 30,
   "metadata": {
    "colab": {
     "base_uri": "https://localhost:8080/"
    },
    "id": "P9u0xdNxfeHl",
    "outputId": "307c6473-48d5-4257-cd19-1277ff7a3174"
   },
   "outputs": [
    {
     "data": {
      "text/plain": [
       "array([4, 0, 4, 4, 4, 3, 1, 3, 2, 2, 3, 4, 4, 2, 4, 2, 0, 4, 4, 1, 1, 0,\n",
       "       4, 3, 1, 4, 3, 0, 4, 1])"
      ]
     },
     "execution_count": 30,
     "metadata": {
      "tags": []
     },
     "output_type": "execute_result"
    }
   ],
   "source": [
    "np.argmax(y_pred1, axis=1)[0:30]"
   ]
  },
  {
   "cell_type": "code",
   "execution_count": 31,
   "metadata": {
    "colab": {
     "base_uri": "https://localhost:8080/"
    },
    "id": "zFzNqz3IvhSG",
    "outputId": "073f6511-eaf8-44a9-ab03-4575bd02ada9"
   },
   "outputs": [
    {
     "data": {
      "text/plain": [
       "array([4, 0, 2, 4, 4, 4, 1, 3, 4, 2, 3, 3, 4, 2, 2, 4, 2, 2, 2, 1, 1, 0,\n",
       "       4, 3, 1, 4, 3, 1, 4, 1], dtype=int32)"
      ]
     },
     "execution_count": 31,
     "metadata": {
      "tags": []
     },
     "output_type": "execute_result"
    }
   ],
   "source": [
    "np.array(test_labels[0:30]).astype('int32')"
   ]
  },
  {
   "cell_type": "code",
   "execution_count": 32,
   "metadata": {
    "colab": {
     "base_uri": "https://localhost:8080/",
     "height": 246
    },
    "id": "gq1gUHQh_rJ5",
    "outputId": "e9f58ae4-21c4-4269-bda2-a641683498bc"
   },
   "outputs": [
    {
     "ename": "NameError",
     "evalue": "ignored",
     "output_type": "error",
     "traceback": [
      "\u001b[0;31m---------------------------------------------------------------------------\u001b[0m",
      "\u001b[0;31mNameError\u001b[0m                                 Traceback (most recent call last)",
      "\u001b[0;32m<ipython-input-32-143d95e5e26d>\u001b[0m in \u001b[0;36m<module>\u001b[0;34m()\u001b[0m\n\u001b[1;32m      1\u001b[0m \u001b[0mplt\u001b[0m\u001b[0;34m.\u001b[0m\u001b[0mfigure\u001b[0m\u001b[0;34m(\u001b[0m\u001b[0mfigsize\u001b[0m \u001b[0;34m=\u001b[0m \u001b[0;34m(\u001b[0m\u001b[0;36m20\u001b[0m\u001b[0;34m,\u001b[0m\u001b[0;36m20\u001b[0m\u001b[0;34m)\u001b[0m\u001b[0;34m)\u001b[0m\u001b[0;34m\u001b[0m\u001b[0;34m\u001b[0m\u001b[0m\n\u001b[1;32m      2\u001b[0m \u001b[0;32mfor\u001b[0m \u001b[0mi\u001b[0m \u001b[0;32min\u001b[0m \u001b[0mrange\u001b[0m\u001b[0;34m(\u001b[0m\u001b[0;36m10\u001b[0m\u001b[0;34m)\u001b[0m\u001b[0;34m:\u001b[0m\u001b[0;34m\u001b[0m\u001b[0;34m\u001b[0m\u001b[0m\n\u001b[0;32m----> 3\u001b[0;31m     \u001b[0mimg\u001b[0m \u001b[0;34m=\u001b[0m \u001b[0mtrain_datagen\u001b[0m\u001b[0;34m[\u001b[0m\u001b[0;36m600\u001b[0m\u001b[0;34m*\u001b[0m\u001b[0mi\u001b[0m\u001b[0;34m]\u001b[0m\u001b[0;34m[\u001b[0m\u001b[0;36m0\u001b[0m\u001b[0;34m]\u001b[0m\u001b[0;34m\u001b[0m\u001b[0;34m\u001b[0m\u001b[0m\n\u001b[0m\u001b[1;32m      4\u001b[0m     \u001b[0mplt\u001b[0m\u001b[0;34m.\u001b[0m\u001b[0msubplot\u001b[0m\u001b[0;34m(\u001b[0m\u001b[0;36m1\u001b[0m\u001b[0;34m,\u001b[0m\u001b[0;36m5\u001b[0m\u001b[0;34m,\u001b[0m\u001b[0mi\u001b[0m\u001b[0;34m+\u001b[0m\u001b[0;36m1\u001b[0m\u001b[0;34m)\u001b[0m\u001b[0;34m\u001b[0m\u001b[0;34m\u001b[0m\u001b[0m\n\u001b[1;32m      5\u001b[0m     \u001b[0mplt\u001b[0m\u001b[0;34m.\u001b[0m\u001b[0mimshow\u001b[0m\u001b[0;34m(\u001b[0m\u001b[0mimg\u001b[0m\u001b[0;34m)\u001b[0m\u001b[0;34m\u001b[0m\u001b[0;34m\u001b[0m\u001b[0m\n",
      "\u001b[0;31mNameError\u001b[0m: name 'train_datagen' is not defined"
     ]
    },
    {
     "data": {
      "text/plain": [
       "<Figure size 1440x1440 with 0 Axes>"
      ]
     },
     "metadata": {
      "tags": []
     },
     "output_type": "display_data"
    }
   ],
   "source": [
    "plt.figure(figsize = (20,20))\n",
    "for i in range(10):\n",
    "    img = train_datagen[600*i][0]\n",
    "    plt.subplot(1,5,i+1)\n",
    "    plt.imshow(img)\n",
    "    plt.axis(\"off\")\n",
    "    plt.title(train_datagen[600*i][1])\n",
    "plt.show()"
   ]
  }
 ],
 "metadata": {
  "accelerator": "GPU",
  "colab": {
   "collapsed_sections": [],
   "name": "flowerclassification_28_with_Augmentation_L.ipynb",
   "provenance": []
  },
  "kernelspec": {
   "display_name": "Python 3",
   "language": "python",
   "name": "python3"
  },
  "language_info": {
   "codemirror_mode": {
    "name": "ipython",
    "version": 3
   },
   "file_extension": ".py",
   "mimetype": "text/x-python",
   "name": "python",
   "nbconvert_exporter": "python",
   "pygments_lexer": "ipython3",
   "version": "3.8.5"
  }
 },
 "nbformat": 4,
 "nbformat_minor": 1
}
