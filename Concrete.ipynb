{
 "cells": [
  {
   "cell_type": "markdown",
   "metadata": {
    "id": "CgPkafcBClHA"
   },
   "source": [
    "#Importing Libraries"
   ]
  },
  {
   "cell_type": "code",
   "execution_count": 1,
   "metadata": {
    "id": "NipDpuvkCmi6"
   },
   "outputs": [],
   "source": [
    "import pandas as pd\n",
    "import numpy as np\n",
    "import matplotlib.pyplot as plt"
   ]
  },
  {
   "cell_type": "markdown",
   "metadata": {
    "id": "UxC9ci-KDQoW"
   },
   "source": [
    "#Uploading Datasets"
   ]
  },
  {
   "cell_type": "code",
   "execution_count": 2,
   "metadata": {
    "id": "B_vpinNiCxTc"
   },
   "outputs": [],
   "source": [
    "data=pd.read_csv(\"./data/compresive_strength_concrete.csv\")"
   ]
  },
  {
   "cell_type": "code",
   "execution_count": 3,
   "metadata": {
    "colab": {
     "base_uri": "https://localhost:8080/"
    },
    "id": "VcJwnsAHIgRW",
    "outputId": "ae5e6e22-0e87-46ca-b520-c9336626e6df"
   },
   "outputs": [
    {
     "data": {
      "text/plain": [
       "(1030, 9)"
      ]
     },
     "execution_count": 3,
     "metadata": {},
     "output_type": "execute_result"
    }
   ],
   "source": [
    "data.shape"
   ]
  },
  {
   "cell_type": "code",
   "execution_count": 4,
   "metadata": {
    "colab": {
     "base_uri": "https://localhost:8080/",
     "height": 326
    },
    "id": "U0yFP1M6Ikh-",
    "outputId": "769d5d3e-3100-4b3a-b009-cc08487e88a3"
   },
   "outputs": [
    {
     "data": {
      "text/html": [
       "<div>\n",
       "<style scoped>\n",
       "    .dataframe tbody tr th:only-of-type {\n",
       "        vertical-align: middle;\n",
       "    }\n",
       "\n",
       "    .dataframe tbody tr th {\n",
       "        vertical-align: top;\n",
       "    }\n",
       "\n",
       "    .dataframe thead th {\n",
       "        text-align: right;\n",
       "    }\n",
       "</style>\n",
       "<table border=\"1\" class=\"dataframe\">\n",
       "  <thead>\n",
       "    <tr style=\"text-align: right;\">\n",
       "      <th></th>\n",
       "      <th>Cement (component 1)(kg in a m^3 mixture)</th>\n",
       "      <th>Blast Furnace Slag (component 2)(kg in a m^3 mixture)</th>\n",
       "      <th>Fly Ash (component 3)(kg in a m^3 mixture)</th>\n",
       "      <th>Water  (component 4)(kg in a m^3 mixture)</th>\n",
       "      <th>Superplasticizer (component 5)(kg in a m^3 mixture)</th>\n",
       "      <th>Coarse Aggregate  (component 6)(kg in a m^3 mixture)</th>\n",
       "      <th>Fine Aggregate (component 7)(kg in a m^3 mixture)</th>\n",
       "      <th>Age (day)</th>\n",
       "      <th>Concrete compressive strength(MPa, megapascals)</th>\n",
       "    </tr>\n",
       "  </thead>\n",
       "  <tbody>\n",
       "    <tr>\n",
       "      <th>0</th>\n",
       "      <td>540.0</td>\n",
       "      <td>0.0</td>\n",
       "      <td>0.0</td>\n",
       "      <td>162.0</td>\n",
       "      <td>2.5</td>\n",
       "      <td>1040.0</td>\n",
       "      <td>676.0</td>\n",
       "      <td>28</td>\n",
       "      <td>79.99</td>\n",
       "    </tr>\n",
       "    <tr>\n",
       "      <th>1</th>\n",
       "      <td>540.0</td>\n",
       "      <td>0.0</td>\n",
       "      <td>0.0</td>\n",
       "      <td>162.0</td>\n",
       "      <td>2.5</td>\n",
       "      <td>1055.0</td>\n",
       "      <td>676.0</td>\n",
       "      <td>28</td>\n",
       "      <td>61.89</td>\n",
       "    </tr>\n",
       "    <tr>\n",
       "      <th>2</th>\n",
       "      <td>332.5</td>\n",
       "      <td>142.5</td>\n",
       "      <td>0.0</td>\n",
       "      <td>228.0</td>\n",
       "      <td>0.0</td>\n",
       "      <td>932.0</td>\n",
       "      <td>594.0</td>\n",
       "      <td>270</td>\n",
       "      <td>40.27</td>\n",
       "    </tr>\n",
       "    <tr>\n",
       "      <th>3</th>\n",
       "      <td>332.5</td>\n",
       "      <td>142.5</td>\n",
       "      <td>0.0</td>\n",
       "      <td>228.0</td>\n",
       "      <td>0.0</td>\n",
       "      <td>932.0</td>\n",
       "      <td>594.0</td>\n",
       "      <td>365</td>\n",
       "      <td>41.05</td>\n",
       "    </tr>\n",
       "    <tr>\n",
       "      <th>4</th>\n",
       "      <td>198.6</td>\n",
       "      <td>132.4</td>\n",
       "      <td>0.0</td>\n",
       "      <td>192.0</td>\n",
       "      <td>0.0</td>\n",
       "      <td>978.4</td>\n",
       "      <td>825.5</td>\n",
       "      <td>360</td>\n",
       "      <td>44.30</td>\n",
       "    </tr>\n",
       "  </tbody>\n",
       "</table>\n",
       "</div>"
      ],
      "text/plain": [
       "   Cement (component 1)(kg in a m^3 mixture)  \\\n",
       "0                                      540.0   \n",
       "1                                      540.0   \n",
       "2                                      332.5   \n",
       "3                                      332.5   \n",
       "4                                      198.6   \n",
       "\n",
       "   Blast Furnace Slag (component 2)(kg in a m^3 mixture)  \\\n",
       "0                                                0.0       \n",
       "1                                                0.0       \n",
       "2                                              142.5       \n",
       "3                                              142.5       \n",
       "4                                              132.4       \n",
       "\n",
       "   Fly Ash (component 3)(kg in a m^3 mixture)  \\\n",
       "0                                         0.0   \n",
       "1                                         0.0   \n",
       "2                                         0.0   \n",
       "3                                         0.0   \n",
       "4                                         0.0   \n",
       "\n",
       "   Water  (component 4)(kg in a m^3 mixture)  \\\n",
       "0                                      162.0   \n",
       "1                                      162.0   \n",
       "2                                      228.0   \n",
       "3                                      228.0   \n",
       "4                                      192.0   \n",
       "\n",
       "   Superplasticizer (component 5)(kg in a m^3 mixture)  \\\n",
       "0                                                2.5     \n",
       "1                                                2.5     \n",
       "2                                                0.0     \n",
       "3                                                0.0     \n",
       "4                                                0.0     \n",
       "\n",
       "   Coarse Aggregate  (component 6)(kg in a m^3 mixture)  \\\n",
       "0                                             1040.0      \n",
       "1                                             1055.0      \n",
       "2                                              932.0      \n",
       "3                                              932.0      \n",
       "4                                              978.4      \n",
       "\n",
       "   Fine Aggregate (component 7)(kg in a m^3 mixture)  Age (day)  \\\n",
       "0                                              676.0         28   \n",
       "1                                              676.0         28   \n",
       "2                                              594.0        270   \n",
       "3                                              594.0        365   \n",
       "4                                              825.5        360   \n",
       "\n",
       "   Concrete compressive strength(MPa, megapascals)   \n",
       "0                                             79.99  \n",
       "1                                             61.89  \n",
       "2                                             40.27  \n",
       "3                                             41.05  \n",
       "4                                             44.30  "
      ]
     },
     "execution_count": 4,
     "metadata": {},
     "output_type": "execute_result"
    }
   ],
   "source": [
    "data.head()"
   ]
  },
  {
   "cell_type": "code",
   "execution_count": 5,
   "metadata": {},
   "outputs": [
    {
     "data": {
      "text/plain": [
       "Cement (component 1)(kg in a m^3 mixture)                0\n",
       "Blast Furnace Slag (component 2)(kg in a m^3 mixture)    0\n",
       "Fly Ash (component 3)(kg in a m^3 mixture)               0\n",
       "Water  (component 4)(kg in a m^3 mixture)                0\n",
       "Superplasticizer (component 5)(kg in a m^3 mixture)      0\n",
       "Coarse Aggregate  (component 6)(kg in a m^3 mixture)     0\n",
       "Fine Aggregate (component 7)(kg in a m^3 mixture)        0\n",
       "Age (day)                                                0\n",
       "Concrete compressive strength(MPa, megapascals)          0\n",
       "dtype: int64"
      ]
     },
     "execution_count": 5,
     "metadata": {},
     "output_type": "execute_result"
    }
   ],
   "source": [
    "data.isnull().sum()"
   ]
  },
  {
   "cell_type": "code",
   "execution_count": 6,
   "metadata": {},
   "outputs": [
    {
     "data": {
      "text/plain": [
       "(array([], dtype=int64), array([], dtype=int64))"
      ]
     },
     "execution_count": 6,
     "metadata": {},
     "output_type": "execute_result"
    }
   ],
   "source": [
    "np.where(data.applymap(lambda x: x == ''))"
   ]
  },
  {
   "cell_type": "code",
   "execution_count": 7,
   "metadata": {},
   "outputs": [],
   "source": [
    "X_train = data.sample(frac = 0.7, random_state = 123)\n",
    "X_test = data.drop(X_train.index)"
   ]
  },
  {
   "cell_type": "code",
   "execution_count": 8,
   "metadata": {},
   "outputs": [
    {
     "data": {
      "text/html": [
       "<div>\n",
       "<style scoped>\n",
       "    .dataframe tbody tr th:only-of-type {\n",
       "        vertical-align: middle;\n",
       "    }\n",
       "\n",
       "    .dataframe tbody tr th {\n",
       "        vertical-align: top;\n",
       "    }\n",
       "\n",
       "    .dataframe thead th {\n",
       "        text-align: right;\n",
       "    }\n",
       "</style>\n",
       "<table border=\"1\" class=\"dataframe\">\n",
       "  <thead>\n",
       "    <tr style=\"text-align: right;\">\n",
       "      <th></th>\n",
       "      <th>Cement (component 1)(kg in a m^3 mixture)</th>\n",
       "      <th>Blast Furnace Slag (component 2)(kg in a m^3 mixture)</th>\n",
       "      <th>Fly Ash (component 3)(kg in a m^3 mixture)</th>\n",
       "      <th>Water  (component 4)(kg in a m^3 mixture)</th>\n",
       "      <th>Superplasticizer (component 5)(kg in a m^3 mixture)</th>\n",
       "      <th>Coarse Aggregate  (component 6)(kg in a m^3 mixture)</th>\n",
       "      <th>Fine Aggregate (component 7)(kg in a m^3 mixture)</th>\n",
       "      <th>Age (day)</th>\n",
       "      <th>Concrete compressive strength(MPa, megapascals)</th>\n",
       "    </tr>\n",
       "  </thead>\n",
       "  <tbody>\n",
       "    <tr>\n",
       "      <th>134</th>\n",
       "      <td>362.6</td>\n",
       "      <td>189.0</td>\n",
       "      <td>0.0</td>\n",
       "      <td>164.9</td>\n",
       "      <td>11.6</td>\n",
       "      <td>944.7</td>\n",
       "      <td>755.8</td>\n",
       "      <td>28</td>\n",
       "      <td>71.30</td>\n",
       "    </tr>\n",
       "    <tr>\n",
       "      <th>13</th>\n",
       "      <td>190.0</td>\n",
       "      <td>190.0</td>\n",
       "      <td>0.0</td>\n",
       "      <td>228.0</td>\n",
       "      <td>0.0</td>\n",
       "      <td>932.0</td>\n",
       "      <td>670.0</td>\n",
       "      <td>90</td>\n",
       "      <td>42.33</td>\n",
       "    </tr>\n",
       "    <tr>\n",
       "      <th>996</th>\n",
       "      <td>152.6</td>\n",
       "      <td>238.7</td>\n",
       "      <td>0.0</td>\n",
       "      <td>200.0</td>\n",
       "      <td>6.3</td>\n",
       "      <td>1001.8</td>\n",
       "      <td>683.9</td>\n",
       "      <td>28</td>\n",
       "      <td>26.86</td>\n",
       "    </tr>\n",
       "    <tr>\n",
       "      <th>770</th>\n",
       "      <td>349.0</td>\n",
       "      <td>0.0</td>\n",
       "      <td>0.0</td>\n",
       "      <td>192.0</td>\n",
       "      <td>0.0</td>\n",
       "      <td>1047.0</td>\n",
       "      <td>806.0</td>\n",
       "      <td>3</td>\n",
       "      <td>14.99</td>\n",
       "    </tr>\n",
       "    <tr>\n",
       "      <th>937</th>\n",
       "      <td>313.3</td>\n",
       "      <td>0.0</td>\n",
       "      <td>113.0</td>\n",
       "      <td>178.5</td>\n",
       "      <td>8.0</td>\n",
       "      <td>1001.9</td>\n",
       "      <td>688.7</td>\n",
       "      <td>28</td>\n",
       "      <td>36.80</td>\n",
       "    </tr>\n",
       "  </tbody>\n",
       "</table>\n",
       "</div>"
      ],
      "text/plain": [
       "     Cement (component 1)(kg in a m^3 mixture)  \\\n",
       "134                                      362.6   \n",
       "13                                       190.0   \n",
       "996                                      152.6   \n",
       "770                                      349.0   \n",
       "937                                      313.3   \n",
       "\n",
       "     Blast Furnace Slag (component 2)(kg in a m^3 mixture)  \\\n",
       "134                                              189.0       \n",
       "13                                               190.0       \n",
       "996                                              238.7       \n",
       "770                                                0.0       \n",
       "937                                                0.0       \n",
       "\n",
       "     Fly Ash (component 3)(kg in a m^3 mixture)  \\\n",
       "134                                         0.0   \n",
       "13                                          0.0   \n",
       "996                                         0.0   \n",
       "770                                         0.0   \n",
       "937                                       113.0   \n",
       "\n",
       "     Water  (component 4)(kg in a m^3 mixture)  \\\n",
       "134                                      164.9   \n",
       "13                                       228.0   \n",
       "996                                      200.0   \n",
       "770                                      192.0   \n",
       "937                                      178.5   \n",
       "\n",
       "     Superplasticizer (component 5)(kg in a m^3 mixture)  \\\n",
       "134                                               11.6     \n",
       "13                                                 0.0     \n",
       "996                                                6.3     \n",
       "770                                                0.0     \n",
       "937                                                8.0     \n",
       "\n",
       "     Coarse Aggregate  (component 6)(kg in a m^3 mixture)  \\\n",
       "134                                              944.7      \n",
       "13                                               932.0      \n",
       "996                                             1001.8      \n",
       "770                                             1047.0      \n",
       "937                                             1001.9      \n",
       "\n",
       "     Fine Aggregate (component 7)(kg in a m^3 mixture)  Age (day)  \\\n",
       "134                                              755.8         28   \n",
       "13                                               670.0         90   \n",
       "996                                              683.9         28   \n",
       "770                                              806.0          3   \n",
       "937                                              688.7         28   \n",
       "\n",
       "     Concrete compressive strength(MPa, megapascals)   \n",
       "134                                             71.30  \n",
       "13                                              42.33  \n",
       "996                                             26.86  \n",
       "770                                             14.99  \n",
       "937                                             36.80  "
      ]
     },
     "execution_count": 8,
     "metadata": {},
     "output_type": "execute_result"
    }
   ],
   "source": [
    "X_train.head()"
   ]
  },
  {
   "cell_type": "markdown",
   "metadata": {
    "id": "CcvbbUpmJFCi"
   },
   "source": [
    "#Assigning features and target variable"
   ]
  },
  {
   "cell_type": "code",
   "execution_count": 9,
   "metadata": {
    "id": "OTv_VabYIj83"
   },
   "outputs": [],
   "source": [
    "Y_train = X_train.iloc[:,-1]\n",
    "X_train = X_train.iloc[:,0:-1]\n",
    "Y_test = X_test.iloc[:,-1]\n",
    "X_test = X_test.iloc[:,0:-1]"
   ]
  },
  {
   "cell_type": "code",
   "execution_count": 10,
   "metadata": {
    "id": "KHF-Yeo2JTyg"
   },
   "outputs": [],
   "source": [
    "X_mean = X_train.mean()\n",
    "X_train -= X_mean\n",
    "X_std = X_train.std()\n",
    "X_train /= X_std\n",
    "X_test -= X_mean\n",
    "X_test /= X_std"
   ]
  },
  {
   "cell_type": "code",
   "execution_count": 11,
   "metadata": {},
   "outputs": [],
   "source": [
    "Y_mean = Y_train.mean()\n",
    "Y_train -= Y_mean\n",
    "Y_std = Y_train.std()\n",
    "Y_train /= Y_std\n",
    "Y_test -= Y_mean\n",
    "Y_test /= Y_std"
   ]
  },
  {
   "cell_type": "code",
   "execution_count": 12,
   "metadata": {},
   "outputs": [
    {
     "data": {
      "text/plain": [
       "Cement (component 1)(kg in a m^3 mixture)                float64\n",
       "Blast Furnace Slag (component 2)(kg in a m^3 mixture)    float64\n",
       "Fly Ash (component 3)(kg in a m^3 mixture)               float64\n",
       "Water  (component 4)(kg in a m^3 mixture)                float64\n",
       "Superplasticizer (component 5)(kg in a m^3 mixture)      float64\n",
       "Coarse Aggregate  (component 6)(kg in a m^3 mixture)     float64\n",
       "Fine Aggregate (component 7)(kg in a m^3 mixture)        float64\n",
       "Age (day)                                                float64\n",
       "dtype: object"
      ]
     },
     "execution_count": 12,
     "metadata": {},
     "output_type": "execute_result"
    }
   ],
   "source": [
    "X_train.dtypes"
   ]
  },
  {
   "cell_type": "code",
   "execution_count": 13,
   "metadata": {},
   "outputs": [],
   "source": [
    "X_train = X_train.to_numpy()\n",
    "Y_train = Y_train.to_numpy()\n",
    "X_test = X_test.to_numpy()\n",
    "Y_test = Y_test.to_numpy()\n"
   ]
  },
  {
   "cell_type": "markdown",
   "metadata": {
    "id": "Lj_iCk5vL5E7"
   },
   "source": [
    "#Training and testing data splittion"
   ]
  },
  {
   "cell_type": "markdown",
   "metadata": {
    "id": "_LMH3tMeMbXN"
   },
   "source": [
    "#Model selection"
   ]
  },
  {
   "cell_type": "code",
   "execution_count": 14,
   "metadata": {
    "id": "N71E3GgCMTCO"
   },
   "outputs": [],
   "source": [
    "from tensorflow.keras import layers as L\n",
    "from tensorflow.keras import models as M"
   ]
  },
  {
   "cell_type": "code",
   "execution_count": 15,
   "metadata": {
    "id": "PZIj7pgIMhcg"
   },
   "outputs": [],
   "source": [
    "network = M.Sequential()"
   ]
  },
  {
   "cell_type": "code",
   "execution_count": 16,
   "metadata": {
    "id": "jcIypzdFMrDX"
   },
   "outputs": [],
   "source": [
    "network.add(L.Dense(128,activation=\"relu\",input_shape=(X_train.shape[1],)))"
   ]
  },
  {
   "cell_type": "code",
   "execution_count": 17,
   "metadata": {
    "id": "gl8qko4FM3j4"
   },
   "outputs": [],
   "source": [
    "network.add(L.Dense(64,activation=\"relu\"))"
   ]
  },
  {
   "cell_type": "code",
   "execution_count": 18,
   "metadata": {
    "id": "LQ2VEXd9M8Uw"
   },
   "outputs": [],
   "source": [
    "network.add(L.Dense(32,activation=\"relu\"))"
   ]
  },
  {
   "cell_type": "code",
   "execution_count": 19,
   "metadata": {
    "id": "yWUmN_KvNCno"
   },
   "outputs": [],
   "source": [
    "network.add(L.Dense(1))"
   ]
  },
  {
   "cell_type": "code",
   "execution_count": 20,
   "metadata": {
    "id": "zSyeoyk0Nsa2"
   },
   "outputs": [],
   "source": [
    "network.compile(optimizer=\"rmsprop\",loss=[\"mse\"],metrics=[\"mae\"])"
   ]
  },
  {
   "cell_type": "code",
   "execution_count": 21,
   "metadata": {
    "colab": {
     "base_uri": "https://localhost:8080/"
    },
    "id": "E8cCCFviOKuF",
    "outputId": "c6eebdfa-f576-4106-ec4b-38cba2572df0"
   },
   "outputs": [
    {
     "name": "stdout",
     "output_type": "stream",
     "text": [
      "Epoch 1/200\n",
      "32/32 [==============================] - 3s 42ms/step - loss: 0.8518 - mae: 0.7386 - val_loss: 0.4459 - val_mae: 0.5438\n",
      "Epoch 2/200\n",
      "32/32 [==============================] - 0s 8ms/step - loss: 0.3584 - mae: 0.4819 - val_loss: 0.3446 - val_mae: 0.4573\n",
      "Epoch 3/200\n",
      "32/32 [==============================] - 0s 8ms/step - loss: 0.2478 - mae: 0.3986 - val_loss: 0.3416 - val_mae: 0.4516\n",
      "Epoch 4/200\n",
      "32/32 [==============================] - 0s 8ms/step - loss: 0.2232 - mae: 0.3819 - val_loss: 0.2880 - val_mae: 0.4355\n",
      "Epoch 5/200\n",
      "32/32 [==============================] - 0s 8ms/step - loss: 0.1941 - mae: 0.3481 - val_loss: 0.2223 - val_mae: 0.3621\n",
      "Epoch 6/200\n",
      "32/32 [==============================] - 0s 8ms/step - loss: 0.1616 - mae: 0.3165 - val_loss: 0.2224 - val_mae: 0.3635\n",
      "Epoch 7/200\n",
      "32/32 [==============================] - 0s 8ms/step - loss: 0.1305 - mae: 0.2766 - val_loss: 0.2113 - val_mae: 0.3661\n",
      "Epoch 8/200\n",
      "32/32 [==============================] - 0s 8ms/step - loss: 0.1142 - mae: 0.2683 - val_loss: 0.2171 - val_mae: 0.3763\n",
      "Epoch 9/200\n",
      "32/32 [==============================] - 0s 7ms/step - loss: 0.1085 - mae: 0.2624 - val_loss: 0.2703 - val_mae: 0.3930\n",
      "Epoch 10/200\n",
      "32/32 [==============================] - 0s 8ms/step - loss: 0.1098 - mae: 0.2672 - val_loss: 0.1997 - val_mae: 0.3432\n",
      "Epoch 11/200\n",
      "32/32 [==============================] - 0s 8ms/step - loss: 0.1115 - mae: 0.2489 - val_loss: 0.1859 - val_mae: 0.3269\n",
      "Epoch 12/200\n",
      "32/32 [==============================] - 0s 8ms/step - loss: 0.1048 - mae: 0.2464 - val_loss: 0.1781 - val_mae: 0.3232\n",
      "Epoch 13/200\n",
      "32/32 [==============================] - 0s 8ms/step - loss: 0.0875 - mae: 0.2311 - val_loss: 0.1658 - val_mae: 0.3046\n",
      "Epoch 14/200\n",
      "32/32 [==============================] - 0s 8ms/step - loss: 0.0770 - mae: 0.2159 - val_loss: 0.1654 - val_mae: 0.3127\n",
      "Epoch 15/200\n",
      "32/32 [==============================] - 0s 10ms/step - loss: 0.0831 - mae: 0.2299 - val_loss: 0.2240 - val_mae: 0.3733\n",
      "Epoch 16/200\n",
      "32/32 [==============================] - 0s 8ms/step - loss: 0.0693 - mae: 0.2079 - val_loss: 0.1705 - val_mae: 0.3203\n",
      "Epoch 17/200\n",
      "32/32 [==============================] - 0s 9ms/step - loss: 0.0807 - mae: 0.2218 - val_loss: 0.1817 - val_mae: 0.3351\n",
      "Epoch 18/200\n",
      "32/32 [==============================] - 0s 11ms/step - loss: 0.0628 - mae: 0.1935 - val_loss: 0.1505 - val_mae: 0.2992\n",
      "Epoch 19/200\n",
      "32/32 [==============================] - 0s 10ms/step - loss: 0.0601 - mae: 0.1917 - val_loss: 0.1588 - val_mae: 0.3061\n",
      "Epoch 20/200\n",
      "32/32 [==============================] - 0s 11ms/step - loss: 0.0644 - mae: 0.1963 - val_loss: 0.1600 - val_mae: 0.3127\n",
      "Epoch 21/200\n",
      "32/32 [==============================] - 0s 9ms/step - loss: 0.0656 - mae: 0.2004 - val_loss: 0.1408 - val_mae: 0.2830\n",
      "Epoch 22/200\n",
      "32/32 [==============================] - 0s 11ms/step - loss: 0.0596 - mae: 0.1917 - val_loss: 0.1510 - val_mae: 0.2956\n",
      "Epoch 23/200\n",
      "32/32 [==============================] - 0s 8ms/step - loss: 0.0774 - mae: 0.2105 - val_loss: 0.1674 - val_mae: 0.3080\n",
      "Epoch 24/200\n",
      "32/32 [==============================] - 0s 11ms/step - loss: 0.0546 - mae: 0.1732 - val_loss: 0.1717 - val_mae: 0.3117\n",
      "Epoch 25/200\n",
      "32/32 [==============================] - 0s 11ms/step - loss: 0.0598 - mae: 0.1841 - val_loss: 0.1495 - val_mae: 0.2961\n",
      "Epoch 26/200\n",
      "32/32 [==============================] - 0s 10ms/step - loss: 0.0593 - mae: 0.1874 - val_loss: 0.1610 - val_mae: 0.3127\n",
      "Epoch 27/200\n",
      "32/32 [==============================] - 0s 10ms/step - loss: 0.0471 - mae: 0.1671 - val_loss: 0.1602 - val_mae: 0.3116\n",
      "Epoch 28/200\n",
      "32/32 [==============================] - 0s 8ms/step - loss: 0.0436 - mae: 0.1640 - val_loss: 0.2030 - val_mae: 0.3438\n",
      "Epoch 29/200\n",
      "32/32 [==============================] - 0s 9ms/step - loss: 0.0527 - mae: 0.1685 - val_loss: 0.1690 - val_mae: 0.3133\n",
      "Epoch 30/200\n",
      "32/32 [==============================] - 0s 9ms/step - loss: 0.0564 - mae: 0.1802 - val_loss: 0.1316 - val_mae: 0.2751\n",
      "Epoch 31/200\n",
      "32/32 [==============================] - 0s 10ms/step - loss: 0.0492 - mae: 0.1665 - val_loss: 0.1435 - val_mae: 0.2830\n",
      "Epoch 32/200\n",
      "32/32 [==============================] - 0s 9ms/step - loss: 0.0528 - mae: 0.1734 - val_loss: 0.1641 - val_mae: 0.3086\n",
      "Epoch 33/200\n",
      "32/32 [==============================] - 0s 10ms/step - loss: 0.0586 - mae: 0.1775 - val_loss: 0.1449 - val_mae: 0.2837\n",
      "Epoch 34/200\n",
      "32/32 [==============================] - 0s 9ms/step - loss: 0.0476 - mae: 0.1564 - val_loss: 0.1386 - val_mae: 0.2825\n",
      "Epoch 35/200\n",
      "32/32 [==============================] - 0s 9ms/step - loss: 0.0446 - mae: 0.1514 - val_loss: 0.1419 - val_mae: 0.2858\n",
      "Epoch 36/200\n",
      "32/32 [==============================] - 0s 13ms/step - loss: 0.0442 - mae: 0.1630 - val_loss: 0.1309 - val_mae: 0.2707\n",
      "Epoch 37/200\n",
      "32/32 [==============================] - 0s 9ms/step - loss: 0.0511 - mae: 0.1672 - val_loss: 0.1416 - val_mae: 0.2915\n",
      "Epoch 38/200\n",
      "32/32 [==============================] - 0s 7ms/step - loss: 0.0453 - mae: 0.1608 - val_loss: 0.1524 - val_mae: 0.2919\n",
      "Epoch 39/200\n",
      "32/32 [==============================] - 0s 7ms/step - loss: 0.0448 - mae: 0.1555 - val_loss: 0.1322 - val_mae: 0.2832\n",
      "Epoch 40/200\n",
      "32/32 [==============================] - 0s 8ms/step - loss: 0.0419 - mae: 0.1515 - val_loss: 0.1439 - val_mae: 0.2906\n",
      "Epoch 41/200\n",
      "32/32 [==============================] - 0s 7ms/step - loss: 0.0411 - mae: 0.1533 - val_loss: 0.1334 - val_mae: 0.2709\n",
      "Epoch 42/200\n",
      "32/32 [==============================] - 0s 7ms/step - loss: 0.0395 - mae: 0.1474 - val_loss: 0.1502 - val_mae: 0.2968\n",
      "Epoch 43/200\n",
      "32/32 [==============================] - 0s 7ms/step - loss: 0.0375 - mae: 0.1489 - val_loss: 0.1468 - val_mae: 0.2848\n",
      "Epoch 44/200\n",
      "32/32 [==============================] - 0s 7ms/step - loss: 0.0439 - mae: 0.1604 - val_loss: 0.1262 - val_mae: 0.2739\n",
      "Epoch 45/200\n",
      "32/32 [==============================] - 0s 8ms/step - loss: 0.0424 - mae: 0.1566 - val_loss: 0.1459 - val_mae: 0.2705\n",
      "Epoch 46/200\n",
      "32/32 [==============================] - 0s 7ms/step - loss: 0.0527 - mae: 0.1675 - val_loss: 0.1625 - val_mae: 0.3224\n",
      "Epoch 47/200\n",
      "32/32 [==============================] - 0s 7ms/step - loss: 0.0376 - mae: 0.1461 - val_loss: 0.1341 - val_mae: 0.2660\n",
      "Epoch 48/200\n",
      "32/32 [==============================] - 0s 7ms/step - loss: 0.0351 - mae: 0.1398 - val_loss: 0.1483 - val_mae: 0.2959\n",
      "Epoch 49/200\n",
      "32/32 [==============================] - 0s 7ms/step - loss: 0.0442 - mae: 0.1553 - val_loss: 0.1322 - val_mae: 0.2764\n",
      "Epoch 50/200\n",
      "32/32 [==============================] - 0s 7ms/step - loss: 0.0361 - mae: 0.1371 - val_loss: 0.1288 - val_mae: 0.2601\n",
      "Epoch 51/200\n",
      "32/32 [==============================] - 0s 7ms/step - loss: 0.0325 - mae: 0.1312 - val_loss: 0.1201 - val_mae: 0.2564\n",
      "Epoch 52/200\n",
      "32/32 [==============================] - 0s 7ms/step - loss: 0.0353 - mae: 0.1396 - val_loss: 0.1249 - val_mae: 0.2675\n",
      "Epoch 53/200\n",
      "32/32 [==============================] - 0s 7ms/step - loss: 0.0377 - mae: 0.1410 - val_loss: 0.1215 - val_mae: 0.2604\n",
      "Epoch 54/200\n",
      "32/32 [==============================] - 0s 7ms/step - loss: 0.0362 - mae: 0.1412 - val_loss: 0.1302 - val_mae: 0.2717\n",
      "Epoch 55/200\n",
      "32/32 [==============================] - 0s 7ms/step - loss: 0.0344 - mae: 0.1372 - val_loss: 0.1646 - val_mae: 0.3026\n",
      "Epoch 56/200\n",
      "32/32 [==============================] - 0s 7ms/step - loss: 0.0353 - mae: 0.1375 - val_loss: 0.1262 - val_mae: 0.2546\n",
      "Epoch 57/200\n",
      "32/32 [==============================] - 0s 7ms/step - loss: 0.0332 - mae: 0.1345 - val_loss: 0.1391 - val_mae: 0.2870\n",
      "Epoch 58/200\n",
      "32/32 [==============================] - 0s 7ms/step - loss: 0.0378 - mae: 0.1348 - val_loss: 0.1454 - val_mae: 0.2794\n",
      "Epoch 59/200\n",
      "32/32 [==============================] - 0s 7ms/step - loss: 0.0363 - mae: 0.1389 - val_loss: 0.1449 - val_mae: 0.2991\n",
      "Epoch 60/200\n",
      "32/32 [==============================] - 0s 7ms/step - loss: 0.0432 - mae: 0.1460 - val_loss: 0.1385 - val_mae: 0.2903\n",
      "Epoch 61/200\n",
      "32/32 [==============================] - 0s 7ms/step - loss: 0.0361 - mae: 0.1405 - val_loss: 0.1283 - val_mae: 0.2652\n",
      "Epoch 62/200\n",
      "32/32 [==============================] - 0s 7ms/step - loss: 0.0345 - mae: 0.1358 - val_loss: 0.1270 - val_mae: 0.2493\n",
      "Epoch 63/200\n"
     ]
    },
    {
     "name": "stdout",
     "output_type": "stream",
     "text": [
      "32/32 [==============================] - 0s 7ms/step - loss: 0.0291 - mae: 0.1236 - val_loss: 0.1301 - val_mae: 0.2663\n",
      "Epoch 64/200\n",
      "32/32 [==============================] - 0s 7ms/step - loss: 0.0290 - mae: 0.1215 - val_loss: 0.1274 - val_mae: 0.2617\n",
      "Epoch 65/200\n",
      "32/32 [==============================] - 0s 8ms/step - loss: 0.0247 - mae: 0.1185 - val_loss: 0.1236 - val_mae: 0.2612\n",
      "Epoch 66/200\n",
      "32/32 [==============================] - 0s 7ms/step - loss: 0.0302 - mae: 0.1243 - val_loss: 0.1557 - val_mae: 0.3069\n",
      "Epoch 67/200\n",
      "32/32 [==============================] - 0s 7ms/step - loss: 0.0331 - mae: 0.1329 - val_loss: 0.1519 - val_mae: 0.2970\n",
      "Epoch 68/200\n",
      "32/32 [==============================] - 0s 7ms/step - loss: 0.0364 - mae: 0.1356 - val_loss: 0.1314 - val_mae: 0.2690\n",
      "Epoch 69/200\n",
      "32/32 [==============================] - 0s 7ms/step - loss: 0.0351 - mae: 0.1291 - val_loss: 0.1285 - val_mae: 0.2608\n",
      "Epoch 70/200\n",
      "32/32 [==============================] - 0s 7ms/step - loss: 0.0356 - mae: 0.1345 - val_loss: 0.1303 - val_mae: 0.2672\n",
      "Epoch 71/200\n",
      "32/32 [==============================] - 0s 7ms/step - loss: 0.0269 - mae: 0.1240 - val_loss: 0.1372 - val_mae: 0.2785\n",
      "Epoch 72/200\n",
      "32/32 [==============================] - 0s 7ms/step - loss: 0.0344 - mae: 0.1338 - val_loss: 0.1283 - val_mae: 0.2622\n",
      "Epoch 73/200\n",
      "32/32 [==============================] - 0s 8ms/step - loss: 0.0263 - mae: 0.1254 - val_loss: 0.1229 - val_mae: 0.2512\n",
      "Epoch 74/200\n",
      "32/32 [==============================] - 0s 7ms/step - loss: 0.0229 - mae: 0.1084 - val_loss: 0.1345 - val_mae: 0.2702\n",
      "Epoch 75/200\n",
      "32/32 [==============================] - 0s 7ms/step - loss: 0.0341 - mae: 0.1274 - val_loss: 0.1375 - val_mae: 0.2764\n",
      "Epoch 76/200\n",
      "32/32 [==============================] - 0s 7ms/step - loss: 0.0353 - mae: 0.1331 - val_loss: 0.1318 - val_mae: 0.2712\n",
      "Epoch 77/200\n",
      "32/32 [==============================] - 0s 7ms/step - loss: 0.0242 - mae: 0.1124 - val_loss: 0.1226 - val_mae: 0.2613\n",
      "Epoch 78/200\n",
      "32/32 [==============================] - 0s 7ms/step - loss: 0.0374 - mae: 0.1357 - val_loss: 0.1281 - val_mae: 0.2669\n",
      "Epoch 79/200\n",
      "32/32 [==============================] - 0s 7ms/step - loss: 0.0333 - mae: 0.1239 - val_loss: 0.1231 - val_mae: 0.2631\n",
      "Epoch 80/200\n",
      "32/32 [==============================] - 0s 8ms/step - loss: 0.0332 - mae: 0.1260 - val_loss: 0.1279 - val_mae: 0.2643\n",
      "Epoch 81/200\n",
      "32/32 [==============================] - 0s 7ms/step - loss: 0.0293 - mae: 0.1181 - val_loss: 0.1528 - val_mae: 0.2827\n",
      "Epoch 82/200\n",
      "32/32 [==============================] - 0s 7ms/step - loss: 0.0250 - mae: 0.1133 - val_loss: 0.1299 - val_mae: 0.2701\n",
      "Epoch 83/200\n",
      "32/32 [==============================] - 0s 7ms/step - loss: 0.0288 - mae: 0.1191 - val_loss: 0.1408 - val_mae: 0.2742\n",
      "Epoch 84/200\n",
      "32/32 [==============================] - 0s 7ms/step - loss: 0.0268 - mae: 0.1229 - val_loss: 0.1373 - val_mae: 0.2694\n",
      "Epoch 85/200\n",
      "32/32 [==============================] - 0s 7ms/step - loss: 0.0279 - mae: 0.1175 - val_loss: 0.1204 - val_mae: 0.2477\n",
      "Epoch 86/200\n",
      "32/32 [==============================] - 0s 7ms/step - loss: 0.0282 - mae: 0.1159 - val_loss: 0.1235 - val_mae: 0.2610\n",
      "Epoch 87/200\n",
      "32/32 [==============================] - 0s 7ms/step - loss: 0.0351 - mae: 0.1192 - val_loss: 0.1296 - val_mae: 0.2603\n",
      "Epoch 88/200\n",
      "32/32 [==============================] - 0s 7ms/step - loss: 0.0273 - mae: 0.1216 - val_loss: 0.1277 - val_mae: 0.2601\n",
      "Epoch 89/200\n",
      "32/32 [==============================] - 0s 7ms/step - loss: 0.0314 - mae: 0.1170 - val_loss: 0.1165 - val_mae: 0.2519\n",
      "Epoch 90/200\n",
      "32/32 [==============================] - 0s 7ms/step - loss: 0.0258 - mae: 0.1115 - val_loss: 0.1439 - val_mae: 0.2838\n",
      "Epoch 91/200\n",
      "32/32 [==============================] - 0s 7ms/step - loss: 0.0270 - mae: 0.1182 - val_loss: 0.1310 - val_mae: 0.2773\n",
      "Epoch 92/200\n",
      "32/32 [==============================] - 0s 7ms/step - loss: 0.0286 - mae: 0.1221 - val_loss: 0.1254 - val_mae: 0.2577\n",
      "Epoch 93/200\n",
      "32/32 [==============================] - 0s 7ms/step - loss: 0.0236 - mae: 0.1048 - val_loss: 0.1201 - val_mae: 0.2537\n",
      "Epoch 94/200\n",
      "32/32 [==============================] - 0s 7ms/step - loss: 0.0286 - mae: 0.1185 - val_loss: 0.1418 - val_mae: 0.2756\n",
      "Epoch 95/200\n",
      "32/32 [==============================] - 0s 7ms/step - loss: 0.0319 - mae: 0.1211 - val_loss: 0.1255 - val_mae: 0.2652\n",
      "Epoch 96/200\n",
      "32/32 [==============================] - 0s 7ms/step - loss: 0.0242 - mae: 0.1115 - val_loss: 0.1285 - val_mae: 0.2592\n",
      "Epoch 97/200\n",
      "32/32 [==============================] - 0s 7ms/step - loss: 0.0277 - mae: 0.1176 - val_loss: 0.1273 - val_mae: 0.2591\n",
      "Epoch 98/200\n",
      "32/32 [==============================] - 0s 7ms/step - loss: 0.0287 - mae: 0.1143 - val_loss: 0.1303 - val_mae: 0.2595\n",
      "Epoch 99/200\n",
      "32/32 [==============================] - 0s 7ms/step - loss: 0.0257 - mae: 0.1093 - val_loss: 0.1244 - val_mae: 0.2584\n",
      "Epoch 100/200\n",
      "32/32 [==============================] - 0s 7ms/step - loss: 0.0276 - mae: 0.1129 - val_loss: 0.1293 - val_mae: 0.2669\n",
      "Epoch 101/200\n",
      "32/32 [==============================] - 0s 7ms/step - loss: 0.0238 - mae: 0.1130 - val_loss: 0.1275 - val_mae: 0.2685\n",
      "Epoch 102/200\n",
      "32/32 [==============================] - 0s 7ms/step - loss: 0.0323 - mae: 0.1262 - val_loss: 0.1354 - val_mae: 0.2695\n",
      "Epoch 103/200\n",
      "32/32 [==============================] - 0s 7ms/step - loss: 0.0259 - mae: 0.1134 - val_loss: 0.1313 - val_mae: 0.2754\n",
      "Epoch 104/200\n",
      "32/32 [==============================] - 0s 7ms/step - loss: 0.0248 - mae: 0.1128 - val_loss: 0.1294 - val_mae: 0.2616\n",
      "Epoch 105/200\n",
      "32/32 [==============================] - 0s 7ms/step - loss: 0.0256 - mae: 0.1132 - val_loss: 0.1429 - val_mae: 0.2796\n",
      "Epoch 106/200\n",
      "32/32 [==============================] - 0s 7ms/step - loss: 0.0308 - mae: 0.1224 - val_loss: 0.1267 - val_mae: 0.2539\n",
      "Epoch 107/200\n",
      "32/32 [==============================] - 0s 6ms/step - loss: 0.0194 - mae: 0.0990 - val_loss: 0.1182 - val_mae: 0.2468\n",
      "Epoch 108/200\n",
      "32/32 [==============================] - 0s 7ms/step - loss: 0.0237 - mae: 0.1024 - val_loss: 0.1317 - val_mae: 0.2710\n",
      "Epoch 109/200\n",
      "32/32 [==============================] - 0s 7ms/step - loss: 0.0335 - mae: 0.1223 - val_loss: 0.1232 - val_mae: 0.2571\n",
      "Epoch 110/200\n",
      "32/32 [==============================] - 0s 7ms/step - loss: 0.0186 - mae: 0.0968 - val_loss: 0.1344 - val_mae: 0.2750\n",
      "Epoch 111/200\n",
      "32/32 [==============================] - 0s 7ms/step - loss: 0.0208 - mae: 0.1013 - val_loss: 0.1195 - val_mae: 0.2537\n",
      "Epoch 112/200\n",
      "32/32 [==============================] - 0s 7ms/step - loss: 0.0184 - mae: 0.0954 - val_loss: 0.1321 - val_mae: 0.2645\n",
      "Epoch 113/200\n",
      "32/32 [==============================] - 0s 7ms/step - loss: 0.0205 - mae: 0.0986 - val_loss: 0.1219 - val_mae: 0.2519\n",
      "Epoch 114/200\n",
      "32/32 [==============================] - 0s 7ms/step - loss: 0.0170 - mae: 0.0959 - val_loss: 0.1290 - val_mae: 0.2681\n",
      "Epoch 115/200\n",
      "32/32 [==============================] - 0s 8ms/step - loss: 0.0218 - mae: 0.1031 - val_loss: 0.1180 - val_mae: 0.2495\n",
      "Epoch 116/200\n",
      "32/32 [==============================] - 0s 7ms/step - loss: 0.0224 - mae: 0.1108 - val_loss: 0.1441 - val_mae: 0.2779\n",
      "Epoch 117/200\n",
      "32/32 [==============================] - 0s 7ms/step - loss: 0.0199 - mae: 0.0927 - val_loss: 0.1223 - val_mae: 0.2549\n",
      "Epoch 118/200\n",
      "32/32 [==============================] - 0s 7ms/step - loss: 0.0286 - mae: 0.1180 - val_loss: 0.1261 - val_mae: 0.2549\n",
      "Epoch 119/200\n",
      "32/32 [==============================] - 0s 7ms/step - loss: 0.0189 - mae: 0.0927 - val_loss: 0.1248 - val_mae: 0.2573\n",
      "Epoch 120/200\n",
      "32/32 [==============================] - 0s 7ms/step - loss: 0.0187 - mae: 0.0937 - val_loss: 0.1248 - val_mae: 0.2546\n",
      "Epoch 121/200\n",
      "32/32 [==============================] - 0s 7ms/step - loss: 0.0256 - mae: 0.1070 - val_loss: 0.1283 - val_mae: 0.2648\n",
      "Epoch 122/200\n",
      "32/32 [==============================] - 0s 7ms/step - loss: 0.0231 - mae: 0.1008 - val_loss: 0.1229 - val_mae: 0.2570\n",
      "Epoch 123/200\n",
      "32/32 [==============================] - 0s 7ms/step - loss: 0.0229 - mae: 0.1053 - val_loss: 0.1186 - val_mae: 0.2508\n",
      "Epoch 124/200\n",
      "32/32 [==============================] - 0s 7ms/step - loss: 0.0201 - mae: 0.0958 - val_loss: 0.1226 - val_mae: 0.2559\n"
     ]
    },
    {
     "name": "stdout",
     "output_type": "stream",
     "text": [
      "Epoch 125/200\n",
      "32/32 [==============================] - 0s 7ms/step - loss: 0.0204 - mae: 0.1006 - val_loss: 0.1269 - val_mae: 0.2594\n",
      "Epoch 126/200\n",
      "32/32 [==============================] - 0s 7ms/step - loss: 0.0315 - mae: 0.1156 - val_loss: 0.1230 - val_mae: 0.2510\n",
      "Epoch 127/200\n",
      "32/32 [==============================] - 0s 7ms/step - loss: 0.0255 - mae: 0.1021 - val_loss: 0.1301 - val_mae: 0.2625\n",
      "Epoch 128/200\n",
      "32/32 [==============================] - 0s 7ms/step - loss: 0.0241 - mae: 0.1032 - val_loss: 0.1259 - val_mae: 0.2669\n",
      "Epoch 129/200\n",
      "32/32 [==============================] - 0s 7ms/step - loss: 0.0172 - mae: 0.0916 - val_loss: 0.1227 - val_mae: 0.2559\n",
      "Epoch 130/200\n",
      "32/32 [==============================] - 0s 7ms/step - loss: 0.0243 - mae: 0.1043 - val_loss: 0.1297 - val_mae: 0.2588\n",
      "Epoch 131/200\n",
      "32/32 [==============================] - 0s 7ms/step - loss: 0.0174 - mae: 0.0938 - val_loss: 0.1224 - val_mae: 0.2491\n",
      "Epoch 132/200\n",
      "32/32 [==============================] - 0s 7ms/step - loss: 0.0181 - mae: 0.0933 - val_loss: 0.1437 - val_mae: 0.2785\n",
      "Epoch 133/200\n",
      "32/32 [==============================] - 0s 7ms/step - loss: 0.0257 - mae: 0.1084 - val_loss: 0.1315 - val_mae: 0.2621\n",
      "Epoch 134/200\n",
      "32/32 [==============================] - 0s 7ms/step - loss: 0.0228 - mae: 0.1041 - val_loss: 0.1350 - val_mae: 0.2672\n",
      "Epoch 135/200\n",
      "32/32 [==============================] - 0s 7ms/step - loss: 0.0258 - mae: 0.1160 - val_loss: 0.1291 - val_mae: 0.2580\n",
      "Epoch 136/200\n",
      "32/32 [==============================] - 0s 7ms/step - loss: 0.0187 - mae: 0.0951 - val_loss: 0.1262 - val_mae: 0.2643\n",
      "Epoch 137/200\n",
      "32/32 [==============================] - 0s 7ms/step - loss: 0.0206 - mae: 0.0987 - val_loss: 0.1348 - val_mae: 0.2684\n",
      "Epoch 138/200\n",
      "32/32 [==============================] - 0s 7ms/step - loss: 0.0204 - mae: 0.0991 - val_loss: 0.1257 - val_mae: 0.2567\n",
      "Epoch 139/200\n",
      "32/32 [==============================] - 0s 7ms/step - loss: 0.0241 - mae: 0.1004 - val_loss: 0.1310 - val_mae: 0.2624\n",
      "Epoch 140/200\n",
      "32/32 [==============================] - 0s 7ms/step - loss: 0.0190 - mae: 0.0992 - val_loss: 0.1213 - val_mae: 0.2599\n",
      "Epoch 141/200\n",
      "32/32 [==============================] - 0s 7ms/step - loss: 0.0247 - mae: 0.1083 - val_loss: 0.1236 - val_mae: 0.2528\n",
      "Epoch 142/200\n",
      "32/32 [==============================] - 0s 7ms/step - loss: 0.0251 - mae: 0.1062 - val_loss: 0.1218 - val_mae: 0.2542\n",
      "Epoch 143/200\n",
      "32/32 [==============================] - 0s 8ms/step - loss: 0.0229 - mae: 0.0971 - val_loss: 0.1299 - val_mae: 0.2591\n",
      "Epoch 144/200\n",
      "32/32 [==============================] - 0s 7ms/step - loss: 0.0220 - mae: 0.1033 - val_loss: 0.1304 - val_mae: 0.2588\n",
      "Epoch 145/200\n",
      "32/32 [==============================] - 0s 7ms/step - loss: 0.0202 - mae: 0.0960 - val_loss: 0.1230 - val_mae: 0.2596\n",
      "Epoch 146/200\n",
      "32/32 [==============================] - 0s 7ms/step - loss: 0.0190 - mae: 0.0915 - val_loss: 0.1354 - val_mae: 0.2622\n",
      "Epoch 147/200\n",
      "32/32 [==============================] - 0s 7ms/step - loss: 0.0235 - mae: 0.1005 - val_loss: 0.1251 - val_mae: 0.2521\n",
      "Epoch 148/200\n",
      "32/32 [==============================] - 0s 7ms/step - loss: 0.0275 - mae: 0.1060 - val_loss: 0.1190 - val_mae: 0.2458\n",
      "Epoch 149/200\n",
      "32/32 [==============================] - 0s 7ms/step - loss: 0.0182 - mae: 0.0914 - val_loss: 0.1253 - val_mae: 0.2569\n",
      "Epoch 150/200\n",
      "32/32 [==============================] - 0s 9ms/step - loss: 0.0169 - mae: 0.0930 - val_loss: 0.1240 - val_mae: 0.2504\n",
      "Epoch 151/200\n",
      "32/32 [==============================] - 0s 7ms/step - loss: 0.0214 - mae: 0.0970 - val_loss: 0.1235 - val_mae: 0.2524\n",
      "Epoch 152/200\n",
      "32/32 [==============================] - 0s 8ms/step - loss: 0.0192 - mae: 0.0937 - val_loss: 0.1277 - val_mae: 0.2639\n",
      "Epoch 153/200\n",
      "32/32 [==============================] - 0s 7ms/step - loss: 0.0239 - mae: 0.0998 - val_loss: 0.1293 - val_mae: 0.2548\n",
      "Epoch 154/200\n",
      "32/32 [==============================] - 0s 7ms/step - loss: 0.0186 - mae: 0.0957 - val_loss: 0.1300 - val_mae: 0.2548\n",
      "Epoch 155/200\n",
      "32/32 [==============================] - 0s 7ms/step - loss: 0.0238 - mae: 0.1007 - val_loss: 0.1311 - val_mae: 0.2585\n",
      "Epoch 156/200\n",
      "32/32 [==============================] - 0s 7ms/step - loss: 0.0255 - mae: 0.1003 - val_loss: 0.1219 - val_mae: 0.2589\n",
      "Epoch 157/200\n",
      "32/32 [==============================] - 0s 7ms/step - loss: 0.0183 - mae: 0.0959 - val_loss: 0.1252 - val_mae: 0.2502\n",
      "Epoch 158/200\n",
      "32/32 [==============================] - 0s 7ms/step - loss: 0.0166 - mae: 0.0878 - val_loss: 0.1308 - val_mae: 0.2607\n",
      "Epoch 159/200\n",
      "32/32 [==============================] - 0s 7ms/step - loss: 0.0242 - mae: 0.0963 - val_loss: 0.1224 - val_mae: 0.2517\n",
      "Epoch 160/200\n",
      "32/32 [==============================] - 0s 7ms/step - loss: 0.0171 - mae: 0.0888 - val_loss: 0.1264 - val_mae: 0.2579\n",
      "Epoch 161/200\n",
      "32/32 [==============================] - 0s 7ms/step - loss: 0.0192 - mae: 0.0937 - val_loss: 0.1368 - val_mae: 0.2660\n",
      "Epoch 162/200\n",
      "32/32 [==============================] - 0s 7ms/step - loss: 0.0188 - mae: 0.0921 - val_loss: 0.1281 - val_mae: 0.2520\n",
      "Epoch 163/200\n",
      "32/32 [==============================] - 0s 7ms/step - loss: 0.0154 - mae: 0.0897 - val_loss: 0.1330 - val_mae: 0.2624\n",
      "Epoch 164/200\n",
      "32/32 [==============================] - 0s 7ms/step - loss: 0.0176 - mae: 0.0910 - val_loss: 0.1305 - val_mae: 0.2564\n",
      "Epoch 165/200\n",
      "32/32 [==============================] - 0s 7ms/step - loss: 0.0206 - mae: 0.0977 - val_loss: 0.1273 - val_mae: 0.2608\n",
      "Epoch 166/200\n",
      "32/32 [==============================] - 0s 7ms/step - loss: 0.0166 - mae: 0.0860 - val_loss: 0.1231 - val_mae: 0.2532\n",
      "Epoch 167/200\n",
      "32/32 [==============================] - 0s 7ms/step - loss: 0.0211 - mae: 0.0959 - val_loss: 0.1247 - val_mae: 0.2500\n",
      "Epoch 168/200\n",
      "32/32 [==============================] - 0s 7ms/step - loss: 0.0172 - mae: 0.0859 - val_loss: 0.1340 - val_mae: 0.2583\n",
      "Epoch 169/200\n",
      "32/32 [==============================] - 0s 7ms/step - loss: 0.0193 - mae: 0.0956 - val_loss: 0.1363 - val_mae: 0.2651\n",
      "Epoch 170/200\n",
      "32/32 [==============================] - 0s 7ms/step - loss: 0.0251 - mae: 0.1007 - val_loss: 0.1303 - val_mae: 0.2628\n",
      "Epoch 171/200\n",
      "32/32 [==============================] - 0s 7ms/step - loss: 0.0193 - mae: 0.0939 - val_loss: 0.1233 - val_mae: 0.2537\n",
      "Epoch 172/200\n",
      "32/32 [==============================] - 0s 7ms/step - loss: 0.0240 - mae: 0.0982 - val_loss: 0.1205 - val_mae: 0.2538\n",
      "Epoch 173/200\n",
      "32/32 [==============================] - 0s 7ms/step - loss: 0.0173 - mae: 0.0832 - val_loss: 0.1172 - val_mae: 0.2418\n",
      "Epoch 174/200\n",
      "32/32 [==============================] - 0s 7ms/step - loss: 0.0225 - mae: 0.0971 - val_loss: 0.1391 - val_mae: 0.2638\n",
      "Epoch 175/200\n",
      "32/32 [==============================] - 0s 7ms/step - loss: 0.0208 - mae: 0.0997 - val_loss: 0.1228 - val_mae: 0.2467\n",
      "Epoch 176/200\n",
      "32/32 [==============================] - 0s 7ms/step - loss: 0.0162 - mae: 0.0868 - val_loss: 0.1226 - val_mae: 0.2465\n",
      "Epoch 177/200\n",
      "32/32 [==============================] - 0s 7ms/step - loss: 0.0178 - mae: 0.0911 - val_loss: 0.1330 - val_mae: 0.2693\n",
      "Epoch 178/200\n",
      "32/32 [==============================] - 0s 7ms/step - loss: 0.0143 - mae: 0.0849 - val_loss: 0.1335 - val_mae: 0.2602\n",
      "Epoch 179/200\n",
      "32/32 [==============================] - 0s 7ms/step - loss: 0.0168 - mae: 0.0889 - val_loss: 0.1242 - val_mae: 0.2529\n",
      "Epoch 180/200\n",
      "32/32 [==============================] - 0s 7ms/step - loss: 0.0173 - mae: 0.0841 - val_loss: 0.1290 - val_mae: 0.2610\n",
      "Epoch 181/200\n",
      "32/32 [==============================] - 0s 7ms/step - loss: 0.0172 - mae: 0.0872 - val_loss: 0.1525 - val_mae: 0.2854\n",
      "Epoch 182/200\n",
      "32/32 [==============================] - 0s 8ms/step - loss: 0.0165 - mae: 0.0888 - val_loss: 0.1307 - val_mae: 0.2614\n",
      "Epoch 183/200\n",
      "32/32 [==============================] - 0s 10ms/step - loss: 0.0173 - mae: 0.0903 - val_loss: 0.1318 - val_mae: 0.2576\n",
      "Epoch 184/200\n",
      "32/32 [==============================] - 0s 8ms/step - loss: 0.0156 - mae: 0.0848 - val_loss: 0.1181 - val_mae: 0.2425\n",
      "Epoch 185/200\n",
      "32/32 [==============================] - 0s 7ms/step - loss: 0.0143 - mae: 0.0772 - val_loss: 0.1242 - val_mae: 0.2564\n",
      "Epoch 186/200\n",
      "32/32 [==============================] - 0s 7ms/step - loss: 0.0158 - mae: 0.0825 - val_loss: 0.1305 - val_mae: 0.2618\n",
      "Epoch 187/200\n",
      "32/32 [==============================] - 0s 7ms/step - loss: 0.0183 - mae: 0.0887 - val_loss: 0.1181 - val_mae: 0.2366\n",
      "Epoch 188/200\n",
      "32/32 [==============================] - 0s 7ms/step - loss: 0.0164 - mae: 0.0876 - val_loss: 0.1263 - val_mae: 0.2579\n",
      "Epoch 189/200\n",
      "32/32 [==============================] - 0s 7ms/step - loss: 0.0153 - mae: 0.0833 - val_loss: 0.1230 - val_mae: 0.2470\n",
      "Epoch 190/200\n",
      "32/32 [==============================] - 0s 7ms/step - loss: 0.0177 - mae: 0.0841 - val_loss: 0.1188 - val_mae: 0.2461\n",
      "Epoch 191/200\n",
      "32/32 [==============================] - 0s 7ms/step - loss: 0.0166 - mae: 0.0845 - val_loss: 0.1230 - val_mae: 0.2514\n",
      "Epoch 192/200\n",
      "32/32 [==============================] - 0s 7ms/step - loss: 0.0229 - mae: 0.0944 - val_loss: 0.1223 - val_mae: 0.2484\n",
      "Epoch 193/200\n",
      "32/32 [==============================] - 0s 7ms/step - loss: 0.0126 - mae: 0.0748 - val_loss: 0.1246 - val_mae: 0.2493\n",
      "Epoch 194/200\n",
      "32/32 [==============================] - 0s 8ms/step - loss: 0.0162 - mae: 0.0837 - val_loss: 0.1399 - val_mae: 0.2700\n",
      "Epoch 195/200\n",
      "32/32 [==============================] - 0s 7ms/step - loss: 0.0240 - mae: 0.0986 - val_loss: 0.1255 - val_mae: 0.2467\n",
      "Epoch 196/200\n",
      "32/32 [==============================] - 0s 7ms/step - loss: 0.0180 - mae: 0.0883 - val_loss: 0.1244 - val_mae: 0.2466\n",
      "Epoch 197/200\n",
      "32/32 [==============================] - 0s 7ms/step - loss: 0.0156 - mae: 0.0795 - val_loss: 0.1240 - val_mae: 0.2503\n",
      "Epoch 198/200\n",
      "32/32 [==============================] - 0s 7ms/step - loss: 0.0281 - mae: 0.1022 - val_loss: 0.1212 - val_mae: 0.2442\n",
      "Epoch 199/200\n",
      "32/32 [==============================] - 0s 7ms/step - loss: 0.0156 - mae: 0.0818 - val_loss: 0.1281 - val_mae: 0.2630\n",
      "Epoch 200/200\n",
      "32/32 [==============================] - 0s 7ms/step - loss: 0.0194 - mae: 0.0883 - val_loss: 0.1177 - val_mae: 0.2437\n"
     ]
    }
   ],
   "source": [
    "history = network.fit(X_train,Y_train,epochs=200,validation_split=0.3, batch_size = 16)"
   ]
  },
  {
   "cell_type": "code",
   "execution_count": 22,
   "metadata": {},
   "outputs": [
    {
     "data": {
      "text/plain": [
       "dict_keys(['loss', 'mae', 'val_loss', 'val_mae'])"
      ]
     },
     "execution_count": 22,
     "metadata": {},
     "output_type": "execute_result"
    }
   ],
   "source": [
    "history.history.keys()"
   ]
  },
  {
   "cell_type": "code",
   "execution_count": 23,
   "metadata": {
    "colab": {
     "base_uri": "https://localhost:8080/"
    },
    "id": "Dke-NeOQtJ7Z",
    "outputId": "c747742c-a35c-489d-910c-49aec973df25"
   },
   "outputs": [
    {
     "name": "stdout",
     "output_type": "stream",
     "text": [
      "10/10 [==============================] - 0s 3ms/step - loss: 0.1231 - mae: 0.2275\n"
     ]
    }
   ],
   "source": [
    "loss,mae=network.evaluate(X_test,Y_test)"
   ]
  },
  {
   "cell_type": "code",
   "execution_count": 24,
   "metadata": {
    "colab": {
     "base_uri": "https://localhost:8080/"
    },
    "id": "CtycpTWetRiZ",
    "outputId": "c3c53923-6128-448f-a0ac-68b30a6eabaa"
   },
   "outputs": [],
   "source": [
    "val_mae = history.history['val_mae']\n",
    "val_loss = history.history['val_loss']"
   ]
  },
  {
   "cell_type": "code",
   "execution_count": 25,
   "metadata": {},
   "outputs": [
    {
     "data": {
      "image/png": "[encoded data removed]",
      "text/plain": [
       "<Figure size 432x288 with 1 Axes>"
      ]
     },
     "metadata": {
      "needs_background": "light"
     },
     "output_type": "display_data"
    }
   ],
   "source": [
    "import matplotlib.pyplot as plt \n",
    "history_dict = history.history\n",
    "loss_values = history_dict['loss']\n",
    "val_loss_values = history_dict['val_loss']\n",
    "epochs = range(200)\n",
    "plt.plot(epochs, loss_values, 'bo', label='Training loss')\n",
    "plt.plot(epochs, val_loss_values, 'b', label='Validation loss')\n",
    "plt.title('Training and validation loss')\n",
    "plt.xlabel('Epochs')\n",
    "plt.ylabel('Loss')\n",
    "plt.legend()\n",
    "plt.show()"
   ]
  },
  {
   "cell_type": "code",
   "execution_count": 26,
   "metadata": {},
   "outputs": [
    {
     "data": {
      "image/png": "[encoded data removed]",
      "text/plain": [
       "<Figure size 432x288 with 1 Axes>"
      ]
     },
     "metadata": {
      "needs_background": "light"
     },
     "output_type": "display_data"
    }
   ],
   "source": [
    "import matplotlib.pyplot as plt \n",
    "acc_values = history_dict['mae']\n",
    "val_acc_values = history_dict['val_mae']\n",
    "plt.plot(epochs, acc_values, 'bo', label='Training mae')\n",
    "plt.plot(epochs, val_acc_values, 'b', label='Validation mae')\n",
    "plt.title('Training and validation accuracy')\n",
    "plt.xlabel('Epochs')\n",
    "plt.ylabel('mae')\n",
    "plt.legend()\n",
    "plt.show()"
   ]
  },
  {
   "cell_type": "code",
   "execution_count": 27,
   "metadata": {
    "id": "AiZJuEX1tXIa"
   },
   "outputs": [],
   "source": [
    "y_pred = network.predict(X_test)"
   ]
  },
  {
   "cell_type": "code",
   "execution_count": 28,
   "metadata": {},
   "outputs": [],
   "source": [
    "def denorm(x):\n",
    "    return (x * Y_std) + Y_mean\n",
    "    "
   ]
  },
  {
   "cell_type": "code",
   "execution_count": 29,
   "metadata": {},
   "outputs": [],
   "source": [
    "y_pred = denorm(y_pred)"
   ]
  },
  {
   "cell_type": "code",
   "execution_count": 30,
   "metadata": {},
   "outputs": [],
   "source": [
    "y_true = denorm(Y_test)"
   ]
  },
  {
   "cell_type": "code",
   "execution_count": 31,
   "metadata": {},
   "outputs": [],
   "source": [
    "y_pred = y_pred.flatten()"
   ]
  },
  {
   "cell_type": "code",
   "execution_count": 32,
   "metadata": {},
   "outputs": [
    {
     "data": {
      "text/plain": [
       "(309,)"
      ]
     },
     "execution_count": 32,
     "metadata": {},
     "output_type": "execute_result"
    }
   ],
   "source": [
    "y_pred.shape"
   ]
  },
  {
   "cell_type": "code",
   "execution_count": 33,
   "metadata": {},
   "outputs": [
    {
     "data": {
      "text/plain": [
       "(309,)"
      ]
     },
     "execution_count": 33,
     "metadata": {},
     "output_type": "execute_result"
    }
   ],
   "source": [
    "y_true.shape"
   ]
  },
  {
   "cell_type": "code",
   "execution_count": 34,
   "metadata": {},
   "outputs": [
    {
     "data": {
      "text/plain": [
       "(0.0, 100.0)"
      ]
     },
     "execution_count": 34,
     "metadata": {},
     "output_type": "execute_result"
    },
    {
     "data": {
      "image/png": "[encoded data removed]",
      "text/plain": [
       "<Figure size 432x288 with 1 Axes>"
      ]
     },
     "metadata": {
      "needs_background": "light"
     },
     "output_type": "display_data"
    }
   ],
   "source": [
    "import numpy as np\n",
    "import matplotlib.pyplot as plt\n",
    "coef = np.polyfit(y_true,y_pred,1)\n",
    "poly1d_fn = np.poly1d(coef) \n",
    "# poly1d_fn is now a function which takes in x and returns an estimate for y\n",
    "plt.plot(y_true,y_pred, 'yo', y_true, poly1d_fn(y_true), '--k')\n",
    "plt.xlim(0, 100)\n",
    "plt.ylim(0, 100)"
   ]
  }
 ],
 "metadata": {
  "accelerator": "TPU",
  "colab": {
   "collapsed_sections": [],
   "name": "Concrete.ipynb",
   "provenance": [],
   "toc_visible": true
  },
  "kernelspec": {
   "display_name": "Python 3",
   "language": "python",
   "name": "python3"
  },
  "language_info": {
   "codemirror_mode": {
    "name": "ipython",
    "version": 3
   },
   "file_extension": ".py",
   "mimetype": "text/x-python",
   "name": "python",
   "nbconvert_exporter": "python",
   "pygments_lexer": "ipython3",
   "version": "3.8.5"
  }
 },
 "nbformat": 4,
 "nbformat_minor": 1
}
